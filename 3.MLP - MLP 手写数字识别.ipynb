{
 "cells": [
  {
   "cell_type": "markdown",
   "id": "ac0b690450dbeacc",
   "metadata": {},
   "source": [
    "# DNN 网络识别手写图片\n",
    "本节仍属于 [PyTorch深度学习：深度神经网络（DNN）](https://www.bilibili.com/video/BV1Z8411R7PH) 的范畴，与之前的激活函数略有不同，故另起一页。\n",
    "\n",
    "此外，由于反复学习了一遍 MLP ，同时推荐学习唐一旦老师的 [徒手实现卷积神经网络--图像识别初体验以及模型过拟合](https://www.bilibili.com/video/BV1Gz421b7vb) ，\n",
    "此篇笔记由两位老师的讲解共同组成。\n",
    "\n",
    "唐一旦老师推荐一个模型的搭建过程可以是：初始化数据集、搭建模型网络、撰写评估函数、训练模型。之所以先撰写评估函数是为了检验之前撰写的代码准确性，与了解评估模型好坏的指标。\n"
   ]
  },
  {
   "cell_type": "code",
   "execution_count": 1,
   "id": "initial_id",
   "metadata": {
    "ExecuteTime": {
     "end_time": "2025-07-26T08:36:49.275306Z",
     "start_time": "2025-07-26T08:36:46.103772Z"
    }
   },
   "outputs": [],
   "source": [
    "import torch\n",
    "import torch.nn as nn\n",
    "import pandas as pd\n",
    "import matplotlib.pyplot as plt\n",
    "%matplotlib inline\n",
    "from matplotlib_inline import backend_inline\n",
    "\n",
    "# 数据集相关\n",
    "from torchvision import datasets, transforms\n",
    "from torch.utils.data import Dataset, DataLoader"
   ]
  },
  {
   "cell_type": "markdown",
   "id": "e73b531883f962b8",
   "metadata": {},
   "source": [
    "接下来就要对图像进行张量化和归一化处理，具体的解释可以参考 [https://juejin.cn/post/7087397616731815966](https://juejin.cn/post/7087397616731815966)\n",
    "\n",
    "下面对两个过程进行简单的解释：\n",
    "\n",
    "## ToTensor 张量化\n",
    "\n",
    "这个函数会吧 PIL Image 对象转化为 Numpy 数组，具体来说他干了两个事情：\n",
    "\n",
    "- 将 (H x W x C) 格式的图片转化为 (C x H x W) ， HWC 格式的图片是以 高、宽、颜色 进行存储的，即读取的时候需要通过 image\\[h, w, c\\] 来获取图片像素值，而 CHW 格式存取时使用的是类似 image\\[c, h, w\\] 来获取图片像素值，前者是先定位高宽再取像素维度，后者是先取维度再取高宽。这样做的好处是，在读取的时候像素永远是同一个通道排在一起的，有助于神经网络理解同维度像素左右的联系。\n",
    "- 将像素值 \\[0, 255\\] 的区间映射为 \\[0.0, 1.0\\] 的区间，将大数据变小，对神经网络更加友好。\n",
    "\n",
    "## Normalize 归一化\n",
    "\n",
    "将 \\[\\~0.0, \\~1.0\\] 之间的数据变为 \\[\\~-1.0, \\~1.0\\] 之间，使其整个训练集的输入均值为 0 ，方差为 1，让神经网络中的 bias 可以在负数与正数内取值，接近原点，使梯度下降更高效，加快收敛速度。"
   ]
  },
  {
   "cell_type": "code",
   "execution_count": 2,
   "id": "6207d2bf5115dae2",
   "metadata": {
    "ExecuteTime": {
     "end_time": "2025-07-26T08:36:49.441047Z",
     "start_time": "2025-07-26T08:36:49.279832Z"
    }
   },
   "outputs": [
    {
     "data": {
      "image/png": "[encoded data removed]",
      "text/plain": [
       "<Figure size 1000x400 with 5 Axes>"
      ]
     },
     "metadata": {},
     "output_type": "display_data"
    }
   ],
   "source": [
    "# 转化为张量与归一化处理\n",
    "# transform = transforms.Compose(  # 将多个图像变换操作组合在一起\n",
    "#     [\n",
    "#         transforms.ToTensor(),\n",
    "#         transforms.Normalize((0.1307,), (0.3081,))\n",
    "#     ]\n",
    "# )\n",
    "\n",
    "# 下载训练集\n",
    "train_Data_raw = datasets.MNIST(\n",
    "    root='./datasets/mnist/',\n",
    "    train=True,\n",
    "    download=True,\n",
    "    transform=None\n",
    ")\n",
    "test_Data_raw = datasets.MNIST(\n",
    "    root='./datasets/mnist/',\n",
    "    train=False,\n",
    "    download=True,\n",
    "    transform=None\n",
    ")\n",
    "\n",
    "# 展示 5 张照片\n",
    "plt.figure(figsize=(10, 4))\n",
    "for _ in range(5):\n",
    "    img, label = train_Data_raw[_]\n",
    "    plt.subplot(1, 5, _ + 1)\n",
    "    plt.imshow(img)  # cmap=plt.cm.binary 色板颜色设置为黑白\n",
    "    plt.title(f\"Label: {label}\")\n",
    "    plt.axis('off')\n",
    "\n",
    "plt.tight_layout()\n",
    "plt.show()  # 展示彩色是因为 plt 是用于数学绘图的，这样是把所有颜色值一样的像素给到不同的高度的颜色了（参考等高图）\n"
   ]
  },
  {
   "cell_type": "code",
   "execution_count": 3,
   "id": "ca8ddc0eff89b28c",
   "metadata": {
    "ExecuteTime": {
     "end_time": "2025-07-26T08:36:54.950355Z",
     "start_time": "2025-07-26T08:36:49.557788Z"
    }
   },
   "outputs": [
    {
     "name": "stdout",
     "output_type": "stream",
     "text": [
      "tensor([[[0.0000, 0.0000, 0.0000, 0.0000, 0.0000, 0.0000, 0.0000, 0.0000,\n",
      "          0.0000, 0.0000, 0.0000, 0.0000, 0.0000, 0.0000, 0.0000, 0.0000,\n",
      "          0.0000, 0.0000, 0.0000, 0.0000, 0.0000, 0.0000, 0.0000, 0.0000,\n",
      "          0.0000, 0.0000, 0.0000, 0.0000],\n",
      "         [0.0000, 0.0000, 0.0000, 0.0000, 0.0000, 0.0000, 0.0000, 0.0000,\n",
      "          0.0000, 0.0000, 0.0000, 0.0000, 0.0000, 0.0000, 0.0000, 0.0000,\n",
      "          0.0000, 0.0000, 0.0000, 0.0000, 0.0000, 0.0000, 0.0000, 0.0000,\n",
      "          0.0000, 0.0000, 0.0000, 0.0000],\n",
      "         [0.0000, 0.0000, 0.0000, 0.0000, 0.0000, 0.0000, 0.0000, 0.0000,\n",
      "          0.0000, 0.0000, 0.0000, 0.0000, 0.0000, 0.0000, 0.0000, 0.0000,\n",
      "          0.0000, 0.0000, 0.0000, 0.0000, 0.0000, 0.0000, 0.0000, 0.0000,\n",
      "          0.0000, 0.0000, 0.0000, 0.0000],\n",
      "         [0.0000, 0.0000, 0.0000, 0.0000, 0.0000, 0.0000, 0.0000, 0.0000,\n",
      "          0.0000, 0.0000, 0.0000, 0.0000, 0.0000, 0.0000, 0.0000, 0.0000,\n",
      "          0.0000, 0.0000, 0.0000, 0.0000, 0.0000, 0.0000, 0.0000, 0.0000,\n",
      "          0.0000, 0.0000, 0.0000, 0.0000],\n",
      "         [0.0000, 0.0000, 0.0000, 0.0000, 0.0000, 0.0000, 0.0000, 0.0000,\n",
      "          0.0000, 0.0000, 0.0000, 0.0000, 0.0000, 0.0000, 0.0000, 0.0000,\n",
      "          0.0000, 0.0000, 0.0000, 0.0000, 0.0000, 0.0000, 0.0000, 0.0000,\n",
      "          0.0000, 0.0000, 0.0000, 0.0000],\n",
      "         [0.0000, 0.0000, 0.0000, 0.0000, 0.0000, 0.0000, 0.0000, 0.0000,\n",
      "          0.0000, 0.0000, 0.0000, 0.0000, 0.0118, 0.0706, 0.0706, 0.0706,\n",
      "          0.4941, 0.5333, 0.6863, 0.1020, 0.6510, 1.0000, 0.9686, 0.4980,\n",
      "          0.0000, 0.0000, 0.0000, 0.0000],\n",
      "         [0.0000, 0.0000, 0.0000, 0.0000, 0.0000, 0.0000, 0.0000, 0.0000,\n",
      "          0.1176, 0.1412, 0.3686, 0.6039, 0.6667, 0.9922, 0.9922, 0.9922,\n",
      "          0.9922, 0.9922, 0.8824, 0.6745, 0.9922, 0.9490, 0.7647, 0.2510,\n",
      "          0.0000, 0.0000, 0.0000, 0.0000],\n",
      "         [0.0000, 0.0000, 0.0000, 0.0000, 0.0000, 0.0000, 0.0000, 0.1922,\n",
      "          0.9333, 0.9922, 0.9922, 0.9922, 0.9922, 0.9922, 0.9922, 0.9922,\n",
      "          0.9922, 0.9843, 0.3647, 0.3216, 0.3216, 0.2196, 0.1529, 0.0000,\n",
      "          0.0000, 0.0000, 0.0000, 0.0000],\n",
      "         [0.0000, 0.0000, 0.0000, 0.0000, 0.0000, 0.0000, 0.0000, 0.0706,\n",
      "          0.8588, 0.9922, 0.9922, 0.9922, 0.9922, 0.9922, 0.7765, 0.7137,\n",
      "          0.9686, 0.9451, 0.0000, 0.0000, 0.0000, 0.0000, 0.0000, 0.0000,\n",
      "          0.0000, 0.0000, 0.0000, 0.0000],\n",
      "         [0.0000, 0.0000, 0.0000, 0.0000, 0.0000, 0.0000, 0.0000, 0.0000,\n",
      "          0.3137, 0.6118, 0.4196, 0.9922, 0.9922, 0.8039, 0.0431, 0.0000,\n",
      "          0.1686, 0.6039, 0.0000, 0.0000, 0.0000, 0.0000, 0.0000, 0.0000,\n",
      "          0.0000, 0.0000, 0.0000, 0.0000],\n",
      "         [0.0000, 0.0000, 0.0000, 0.0000, 0.0000, 0.0000, 0.0000, 0.0000,\n",
      "          0.0000, 0.0549, 0.0039, 0.6039, 0.9922, 0.3529, 0.0000, 0.0000,\n",
      "          0.0000, 0.0000, 0.0000, 0.0000, 0.0000, 0.0000, 0.0000, 0.0000,\n",
      "          0.0000, 0.0000, 0.0000, 0.0000],\n",
      "         [0.0000, 0.0000, 0.0000, 0.0000, 0.0000, 0.0000, 0.0000, 0.0000,\n",
      "          0.0000, 0.0000, 0.0000, 0.5451, 0.9922, 0.7451, 0.0078, 0.0000,\n",
      "          0.0000, 0.0000, 0.0000, 0.0000, 0.0000, 0.0000, 0.0000, 0.0000,\n",
      "          0.0000, 0.0000, 0.0000, 0.0000],\n",
      "         [0.0000, 0.0000, 0.0000, 0.0000, 0.0000, 0.0000, 0.0000, 0.0000,\n",
      "          0.0000, 0.0000, 0.0000, 0.0431, 0.7451, 0.9922, 0.2745, 0.0000,\n",
      "          0.0000, 0.0000, 0.0000, 0.0000, 0.0000, 0.0000, 0.0000, 0.0000,\n",
      "          0.0000, 0.0000, 0.0000, 0.0000],\n",
      "         [0.0000, 0.0000, 0.0000, 0.0000, 0.0000, 0.0000, 0.0000, 0.0000,\n",
      "          0.0000, 0.0000, 0.0000, 0.0000, 0.1373, 0.9451, 0.8824, 0.6275,\n",
      "          0.4235, 0.0039, 0.0000, 0.0000, 0.0000, 0.0000, 0.0000, 0.0000,\n",
      "          0.0000, 0.0000, 0.0000, 0.0000],\n",
      "         [0.0000, 0.0000, 0.0000, 0.0000, 0.0000, 0.0000, 0.0000, 0.0000,\n",
      "          0.0000, 0.0000, 0.0000, 0.0000, 0.0000, 0.3176, 0.9412, 0.9922,\n",
      "          0.9922, 0.4667, 0.0980, 0.0000, 0.0000, 0.0000, 0.0000, 0.0000,\n",
      "          0.0000, 0.0000, 0.0000, 0.0000],\n",
      "         [0.0000, 0.0000, 0.0000, 0.0000, 0.0000, 0.0000, 0.0000, 0.0000,\n",
      "          0.0000, 0.0000, 0.0000, 0.0000, 0.0000, 0.0000, 0.1765, 0.7294,\n",
      "          0.9922, 0.9922, 0.5882, 0.1059, 0.0000, 0.0000, 0.0000, 0.0000,\n",
      "          0.0000, 0.0000, 0.0000, 0.0000],\n",
      "         [0.0000, 0.0000, 0.0000, 0.0000, 0.0000, 0.0000, 0.0000, 0.0000,\n",
      "          0.0000, 0.0000, 0.0000, 0.0000, 0.0000, 0.0000, 0.0000, 0.0627,\n",
      "          0.3647, 0.9882, 0.9922, 0.7333, 0.0000, 0.0000, 0.0000, 0.0000,\n",
      "          0.0000, 0.0000, 0.0000, 0.0000],\n",
      "         [0.0000, 0.0000, 0.0000, 0.0000, 0.0000, 0.0000, 0.0000, 0.0000,\n",
      "          0.0000, 0.0000, 0.0000, 0.0000, 0.0000, 0.0000, 0.0000, 0.0000,\n",
      "          0.0000, 0.9765, 0.9922, 0.9765, 0.2510, 0.0000, 0.0000, 0.0000,\n",
      "          0.0000, 0.0000, 0.0000, 0.0000],\n",
      "         [0.0000, 0.0000, 0.0000, 0.0000, 0.0000, 0.0000, 0.0000, 0.0000,\n",
      "          0.0000, 0.0000, 0.0000, 0.0000, 0.0000, 0.0000, 0.1804, 0.5098,\n",
      "          0.7176, 0.9922, 0.9922, 0.8118, 0.0078, 0.0000, 0.0000, 0.0000,\n",
      "          0.0000, 0.0000, 0.0000, 0.0000],\n",
      "         [0.0000, 0.0000, 0.0000, 0.0000, 0.0000, 0.0000, 0.0000, 0.0000,\n",
      "          0.0000, 0.0000, 0.0000, 0.0000, 0.1529, 0.5804, 0.8980, 0.9922,\n",
      "          0.9922, 0.9922, 0.9804, 0.7137, 0.0000, 0.0000, 0.0000, 0.0000,\n",
      "          0.0000, 0.0000, 0.0000, 0.0000],\n",
      "         [0.0000, 0.0000, 0.0000, 0.0000, 0.0000, 0.0000, 0.0000, 0.0000,\n",
      "          0.0000, 0.0000, 0.0941, 0.4471, 0.8667, 0.9922, 0.9922, 0.9922,\n",
      "          0.9922, 0.7882, 0.3059, 0.0000, 0.0000, 0.0000, 0.0000, 0.0000,\n",
      "          0.0000, 0.0000, 0.0000, 0.0000],\n",
      "         [0.0000, 0.0000, 0.0000, 0.0000, 0.0000, 0.0000, 0.0000, 0.0000,\n",
      "          0.0902, 0.2588, 0.8353, 0.9922, 0.9922, 0.9922, 0.9922, 0.7765,\n",
      "          0.3176, 0.0078, 0.0000, 0.0000, 0.0000, 0.0000, 0.0000, 0.0000,\n",
      "          0.0000, 0.0000, 0.0000, 0.0000],\n",
      "         [0.0000, 0.0000, 0.0000, 0.0000, 0.0000, 0.0000, 0.0706, 0.6706,\n",
      "          0.8588, 0.9922, 0.9922, 0.9922, 0.9922, 0.7647, 0.3137, 0.0353,\n",
      "          0.0000, 0.0000, 0.0000, 0.0000, 0.0000, 0.0000, 0.0000, 0.0000,\n",
      "          0.0000, 0.0000, 0.0000, 0.0000],\n",
      "         [0.0000, 0.0000, 0.0000, 0.0000, 0.2157, 0.6745, 0.8863, 0.9922,\n",
      "          0.9922, 0.9922, 0.9922, 0.9569, 0.5216, 0.0431, 0.0000, 0.0000,\n",
      "          0.0000, 0.0000, 0.0000, 0.0000, 0.0000, 0.0000, 0.0000, 0.0000,\n",
      "          0.0000, 0.0000, 0.0000, 0.0000],\n",
      "         [0.0000, 0.0000, 0.0000, 0.0000, 0.5333, 0.9922, 0.9922, 0.9922,\n",
      "          0.8314, 0.5294, 0.5176, 0.0627, 0.0000, 0.0000, 0.0000, 0.0000,\n",
      "          0.0000, 0.0000, 0.0000, 0.0000, 0.0000, 0.0000, 0.0000, 0.0000,\n",
      "          0.0000, 0.0000, 0.0000, 0.0000],\n",
      "         [0.0000, 0.0000, 0.0000, 0.0000, 0.0000, 0.0000, 0.0000, 0.0000,\n",
      "          0.0000, 0.0000, 0.0000, 0.0000, 0.0000, 0.0000, 0.0000, 0.0000,\n",
      "          0.0000, 0.0000, 0.0000, 0.0000, 0.0000, 0.0000, 0.0000, 0.0000,\n",
      "          0.0000, 0.0000, 0.0000, 0.0000],\n",
      "         [0.0000, 0.0000, 0.0000, 0.0000, 0.0000, 0.0000, 0.0000, 0.0000,\n",
      "          0.0000, 0.0000, 0.0000, 0.0000, 0.0000, 0.0000, 0.0000, 0.0000,\n",
      "          0.0000, 0.0000, 0.0000, 0.0000, 0.0000, 0.0000, 0.0000, 0.0000,\n",
      "          0.0000, 0.0000, 0.0000, 0.0000],\n",
      "         [0.0000, 0.0000, 0.0000, 0.0000, 0.0000, 0.0000, 0.0000, 0.0000,\n",
      "          0.0000, 0.0000, 0.0000, 0.0000, 0.0000, 0.0000, 0.0000, 0.0000,\n",
      "          0.0000, 0.0000, 0.0000, 0.0000, 0.0000, 0.0000, 0.0000, 0.0000,\n",
      "          0.0000, 0.0000, 0.0000, 0.0000]]])\n",
      "tensor([[[-0.4242, -0.4242, -0.4242, -0.4242, -0.4242, -0.4242, -0.4242,\n",
      "          -0.4242, -0.4242, -0.4242, -0.4242, -0.4242, -0.4242, -0.4242,\n",
      "          -0.4242, -0.4242, -0.4242, -0.4242, -0.4242, -0.4242, -0.4242,\n",
      "          -0.4242, -0.4242, -0.4242, -0.4242, -0.4242, -0.4242, -0.4242],\n",
      "         [-0.4242, -0.4242, -0.4242, -0.4242, -0.4242, -0.4242, -0.4242,\n",
      "          -0.4242, -0.4242, -0.4242, -0.4242, -0.4242, -0.4242, -0.4242,\n",
      "          -0.4242, -0.4242, -0.4242, -0.4242, -0.4242, -0.4242, -0.4242,\n",
      "          -0.4242, -0.4242, -0.4242, -0.4242, -0.4242, -0.4242, -0.4242],\n",
      "         [-0.4242, -0.4242, -0.4242, -0.4242, -0.4242, -0.4242, -0.4242,\n",
      "          -0.4242, -0.4242, -0.4242, -0.4242, -0.4242, -0.4242, -0.4242,\n",
      "          -0.4242, -0.4242, -0.4242, -0.4242, -0.4242, -0.4242, -0.4242,\n",
      "          -0.4242, -0.4242, -0.4242, -0.4242, -0.4242, -0.4242, -0.4242],\n",
      "         [-0.4242, -0.4242, -0.4242, -0.4242, -0.4242, -0.4242, -0.4242,\n",
      "          -0.4242, -0.4242, -0.4242, -0.4242, -0.4242, -0.4242, -0.4242,\n",
      "          -0.4242, -0.4242, -0.4242, -0.4242, -0.4242, -0.4242, -0.4242,\n",
      "          -0.4242, -0.4242, -0.4242, -0.4242, -0.4242, -0.4242, -0.4242],\n",
      "         [-0.4242, -0.4242, -0.4242, -0.4242, -0.4242, -0.4242, -0.4242,\n",
      "          -0.4242, -0.4242, -0.4242, -0.4242, -0.4242, -0.4242, -0.4242,\n",
      "          -0.4242, -0.4242, -0.4242, -0.4242, -0.4242, -0.4242, -0.4242,\n",
      "          -0.4242, -0.4242, -0.4242, -0.4242, -0.4242, -0.4242, -0.4242],\n",
      "         [-0.4242, -0.4242, -0.4242, -0.4242, -0.4242, -0.4242, -0.4242,\n",
      "          -0.4242, -0.4242, -0.4242, -0.4242, -0.4242, -0.3860, -0.1951,\n",
      "          -0.1951, -0.1951,  1.1795,  1.3068,  1.8032, -0.0933,  1.6887,\n",
      "           2.8215,  2.7197,  1.1923, -0.4242, -0.4242, -0.4242, -0.4242],\n",
      "         [-0.4242, -0.4242, -0.4242, -0.4242, -0.4242, -0.4242, -0.4242,\n",
      "          -0.4242, -0.0424,  0.0340,  0.7722,  1.5359,  1.7396,  2.7960,\n",
      "           2.7960,  2.7960,  2.7960,  2.7960,  2.4396,  1.7650,  2.7960,\n",
      "           2.6560,  2.0578,  0.3904, -0.4242, -0.4242, -0.4242, -0.4242],\n",
      "         [-0.4242, -0.4242, -0.4242, -0.4242, -0.4242, -0.4242, -0.4242,\n",
      "           0.1995,  2.6051,  2.7960,  2.7960,  2.7960,  2.7960,  2.7960,\n",
      "           2.7960,  2.7960,  2.7960,  2.7706,  0.7595,  0.6195,  0.6195,\n",
      "           0.2886,  0.0722, -0.4242, -0.4242, -0.4242, -0.4242, -0.4242],\n",
      "         [-0.4242, -0.4242, -0.4242, -0.4242, -0.4242, -0.4242, -0.4242,\n",
      "          -0.1951,  2.3633,  2.7960,  2.7960,  2.7960,  2.7960,  2.7960,\n",
      "           2.0960,  1.8923,  2.7197,  2.6433, -0.4242, -0.4242, -0.4242,\n",
      "          -0.4242, -0.4242, -0.4242, -0.4242, -0.4242, -0.4242, -0.4242],\n",
      "         [-0.4242, -0.4242, -0.4242, -0.4242, -0.4242, -0.4242, -0.4242,\n",
      "          -0.4242,  0.5940,  1.5614,  0.9377,  2.7960,  2.7960,  2.1851,\n",
      "          -0.2842, -0.4242,  0.1231,  1.5359, -0.4242, -0.4242, -0.4242,\n",
      "          -0.4242, -0.4242, -0.4242, -0.4242, -0.4242, -0.4242, -0.4242],\n",
      "         [-0.4242, -0.4242, -0.4242, -0.4242, -0.4242, -0.4242, -0.4242,\n",
      "          -0.4242, -0.4242, -0.2460, -0.4115,  1.5359,  2.7960,  0.7213,\n",
      "          -0.4242, -0.4242, -0.4242, -0.4242, -0.4242, -0.4242, -0.4242,\n",
      "          -0.4242, -0.4242, -0.4242, -0.4242, -0.4242, -0.4242, -0.4242],\n",
      "         [-0.4242, -0.4242, -0.4242, -0.4242, -0.4242, -0.4242, -0.4242,\n",
      "          -0.4242, -0.4242, -0.4242, -0.4242,  1.3450,  2.7960,  1.9942,\n",
      "          -0.3988, -0.4242, -0.4242, -0.4242, -0.4242, -0.4242, -0.4242,\n",
      "          -0.4242, -0.4242, -0.4242, -0.4242, -0.4242, -0.4242, -0.4242],\n",
      "         [-0.4242, -0.4242, -0.4242, -0.4242, -0.4242, -0.4242, -0.4242,\n",
      "          -0.4242, -0.4242, -0.4242, -0.4242, -0.2842,  1.9942,  2.7960,\n",
      "           0.4668, -0.4242, -0.4242, -0.4242, -0.4242, -0.4242, -0.4242,\n",
      "          -0.4242, -0.4242, -0.4242, -0.4242, -0.4242, -0.4242, -0.4242],\n",
      "         [-0.4242, -0.4242, -0.4242, -0.4242, -0.4242, -0.4242, -0.4242,\n",
      "          -0.4242, -0.4242, -0.4242, -0.4242, -0.4242,  0.0213,  2.6433,\n",
      "           2.4396,  1.6123,  0.9504, -0.4115, -0.4242, -0.4242, -0.4242,\n",
      "          -0.4242, -0.4242, -0.4242, -0.4242, -0.4242, -0.4242, -0.4242],\n",
      "         [-0.4242, -0.4242, -0.4242, -0.4242, -0.4242, -0.4242, -0.4242,\n",
      "          -0.4242, -0.4242, -0.4242, -0.4242, -0.4242, -0.4242,  0.6068,\n",
      "           2.6306,  2.7960,  2.7960,  1.0904, -0.1060, -0.4242, -0.4242,\n",
      "          -0.4242, -0.4242, -0.4242, -0.4242, -0.4242, -0.4242, -0.4242],\n",
      "         [-0.4242, -0.4242, -0.4242, -0.4242, -0.4242, -0.4242, -0.4242,\n",
      "          -0.4242, -0.4242, -0.4242, -0.4242, -0.4242, -0.4242, -0.4242,\n",
      "           0.1486,  1.9432,  2.7960,  2.7960,  1.4850, -0.0806, -0.4242,\n",
      "          -0.4242, -0.4242, -0.4242, -0.4242, -0.4242, -0.4242, -0.4242],\n",
      "         [-0.4242, -0.4242, -0.4242, -0.4242, -0.4242, -0.4242, -0.4242,\n",
      "          -0.4242, -0.4242, -0.4242, -0.4242, -0.4242, -0.4242, -0.4242,\n",
      "          -0.4242, -0.2206,  0.7595,  2.7833,  2.7960,  1.9560, -0.4242,\n",
      "          -0.4242, -0.4242, -0.4242, -0.4242, -0.4242, -0.4242, -0.4242],\n",
      "         [-0.4242, -0.4242, -0.4242, -0.4242, -0.4242, -0.4242, -0.4242,\n",
      "          -0.4242, -0.4242, -0.4242, -0.4242, -0.4242, -0.4242, -0.4242,\n",
      "          -0.4242, -0.4242, -0.4242,  2.7451,  2.7960,  2.7451,  0.3904,\n",
      "          -0.4242, -0.4242, -0.4242, -0.4242, -0.4242, -0.4242, -0.4242],\n",
      "         [-0.4242, -0.4242, -0.4242, -0.4242, -0.4242, -0.4242, -0.4242,\n",
      "          -0.4242, -0.4242, -0.4242, -0.4242, -0.4242, -0.4242, -0.4242,\n",
      "           0.1613,  1.2305,  1.9051,  2.7960,  2.7960,  2.2105, -0.3988,\n",
      "          -0.4242, -0.4242, -0.4242, -0.4242, -0.4242, -0.4242, -0.4242],\n",
      "         [-0.4242, -0.4242, -0.4242, -0.4242, -0.4242, -0.4242, -0.4242,\n",
      "          -0.4242, -0.4242, -0.4242, -0.4242, -0.4242,  0.0722,  1.4596,\n",
      "           2.4906,  2.7960,  2.7960,  2.7960,  2.7578,  1.8923, -0.4242,\n",
      "          -0.4242, -0.4242, -0.4242, -0.4242, -0.4242, -0.4242, -0.4242],\n",
      "         [-0.4242, -0.4242, -0.4242, -0.4242, -0.4242, -0.4242, -0.4242,\n",
      "          -0.4242, -0.4242, -0.4242, -0.1187,  1.0268,  2.3887,  2.7960,\n",
      "           2.7960,  2.7960,  2.7960,  2.1342,  0.5686, -0.4242, -0.4242,\n",
      "          -0.4242, -0.4242, -0.4242, -0.4242, -0.4242, -0.4242, -0.4242],\n",
      "         [-0.4242, -0.4242, -0.4242, -0.4242, -0.4242, -0.4242, -0.4242,\n",
      "          -0.4242, -0.1315,  0.4159,  2.2869,  2.7960,  2.7960,  2.7960,\n",
      "           2.7960,  2.0960,  0.6068, -0.3988, -0.4242, -0.4242, -0.4242,\n",
      "          -0.4242, -0.4242, -0.4242, -0.4242, -0.4242, -0.4242, -0.4242],\n",
      "         [-0.4242, -0.4242, -0.4242, -0.4242, -0.4242, -0.4242, -0.1951,\n",
      "           1.7523,  2.3633,  2.7960,  2.7960,  2.7960,  2.7960,  2.0578,\n",
      "           0.5940, -0.3097, -0.4242, -0.4242, -0.4242, -0.4242, -0.4242,\n",
      "          -0.4242, -0.4242, -0.4242, -0.4242, -0.4242, -0.4242, -0.4242],\n",
      "         [-0.4242, -0.4242, -0.4242, -0.4242,  0.2758,  1.7650,  2.4524,\n",
      "           2.7960,  2.7960,  2.7960,  2.7960,  2.6815,  1.2686, -0.2842,\n",
      "          -0.4242, -0.4242, -0.4242, -0.4242, -0.4242, -0.4242, -0.4242,\n",
      "          -0.4242, -0.4242, -0.4242, -0.4242, -0.4242, -0.4242, -0.4242],\n",
      "         [-0.4242, -0.4242, -0.4242, -0.4242,  1.3068,  2.7960,  2.7960,\n",
      "           2.7960,  2.2742,  1.2941,  1.2559, -0.2206, -0.4242, -0.4242,\n",
      "          -0.4242, -0.4242, -0.4242, -0.4242, -0.4242, -0.4242, -0.4242,\n",
      "          -0.4242, -0.4242, -0.4242, -0.4242, -0.4242, -0.4242, -0.4242],\n",
      "         [-0.4242, -0.4242, -0.4242, -0.4242, -0.4242, -0.4242, -0.4242,\n",
      "          -0.4242, -0.4242, -0.4242, -0.4242, -0.4242, -0.4242, -0.4242,\n",
      "          -0.4242, -0.4242, -0.4242, -0.4242, -0.4242, -0.4242, -0.4242,\n",
      "          -0.4242, -0.4242, -0.4242, -0.4242, -0.4242, -0.4242, -0.4242],\n",
      "         [-0.4242, -0.4242, -0.4242, -0.4242, -0.4242, -0.4242, -0.4242,\n",
      "          -0.4242, -0.4242, -0.4242, -0.4242, -0.4242, -0.4242, -0.4242,\n",
      "          -0.4242, -0.4242, -0.4242, -0.4242, -0.4242, -0.4242, -0.4242,\n",
      "          -0.4242, -0.4242, -0.4242, -0.4242, -0.4242, -0.4242, -0.4242],\n",
      "         [-0.4242, -0.4242, -0.4242, -0.4242, -0.4242, -0.4242, -0.4242,\n",
      "          -0.4242, -0.4242, -0.4242, -0.4242, -0.4242, -0.4242, -0.4242,\n",
      "          -0.4242, -0.4242, -0.4242, -0.4242, -0.4242, -0.4242, -0.4242,\n",
      "          -0.4242, -0.4242, -0.4242, -0.4242, -0.4242, -0.4242, -0.4242]]])\n",
      "tensor([[[0.0000, 0.0000, 0.0000, 0.0000, 0.0000, 0.0000, 0.0000, 0.0000,\n",
      "          0.0000, 0.0000, 0.0000, 0.0000, 0.0000, 0.0000, 0.0000, 0.0000,\n",
      "          0.0000, 0.0000, 0.0000, 0.0000, 0.0000, 0.0000, 0.0000, 0.0000,\n",
      "          0.0000, 0.0000, 0.0000, 0.0000],\n",
      "         [0.0000, 0.0000, 0.0000, 0.0000, 0.0000, 0.0000, 0.0000, 0.0000,\n",
      "          0.0000, 0.0000, 0.0000, 0.0000, 0.0000, 0.0000, 0.0000, 0.0000,\n",
      "          0.0000, 0.0000, 0.0000, 0.0000, 0.0000, 0.0000, 0.0000, 0.0000,\n",
      "          0.0000, 0.0000, 0.0000, 0.0000],\n",
      "         [0.0000, 0.0000, 0.0000, 0.0000, 0.0000, 0.0000, 0.0000, 0.0000,\n",
      "          0.0000, 0.0000, 0.0000, 0.0000, 0.0000, 0.0000, 0.0000, 0.0000,\n",
      "          0.0000, 0.0000, 0.0000, 0.0000, 0.0000, 0.0000, 0.0000, 0.0000,\n",
      "          0.0000, 0.0000, 0.0000, 0.0000],\n",
      "         [0.0000, 0.0000, 0.0000, 0.0000, 0.0000, 0.0000, 0.0000, 0.0000,\n",
      "          0.0000, 0.0000, 0.0000, 0.0000, 0.0000, 0.0000, 0.0000, 0.0000,\n",
      "          0.0000, 0.0000, 0.0000, 0.0000, 0.0000, 0.0000, 0.0000, 0.0000,\n",
      "          0.0000, 0.0000, 0.0000, 0.0000],\n",
      "         [0.0000, 0.0000, 0.0000, 0.0000, 0.0000, 0.0000, 0.0000, 0.0000,\n",
      "          0.0000, 0.0000, 0.0000, 0.0000, 0.0000, 0.0000, 0.0000, 0.0000,\n",
      "          0.0000, 0.0000, 0.0000, 0.0000, 0.0000, 0.0000, 0.0000, 0.0000,\n",
      "          0.0000, 0.0000, 0.0000, 0.0000],\n",
      "         [0.0000, 0.0000, 0.0000, 0.0000, 0.0000, 0.0000, 0.0000, 0.0000,\n",
      "          0.0000, 0.0000, 0.0000, 0.0000, 0.0000, 0.0000, 0.0000, 0.0000,\n",
      "          0.0000, 0.0000, 0.0000, 0.0000, 0.0000, 0.0000, 0.0000, 0.0000,\n",
      "          0.0000, 0.0000, 0.0000, 0.0000],\n",
      "         [0.0000, 0.0000, 0.0000, 0.0000, 0.0000, 0.0000, 0.0000, 0.0000,\n",
      "          0.0000, 0.0000, 0.0000, 0.0000, 0.0000, 0.0000, 0.0000, 0.0000,\n",
      "          0.0000, 0.0000, 0.0000, 0.0000, 0.0000, 0.0000, 0.0000, 0.0000,\n",
      "          0.0000, 0.0000, 0.0000, 0.0000],\n",
      "         [0.0000, 0.0000, 0.0000, 0.0000, 0.0000, 0.0000, 0.3294, 0.7255,\n",
      "          0.6235, 0.5922, 0.2353, 0.1412, 0.0000, 0.0000, 0.0000, 0.0000,\n",
      "          0.0000, 0.0000, 0.0000, 0.0000, 0.0000, 0.0000, 0.0000, 0.0000,\n",
      "          0.0000, 0.0000, 0.0000, 0.0000],\n",
      "         [0.0000, 0.0000, 0.0000, 0.0000, 0.0000, 0.0000, 0.8706, 0.9961,\n",
      "          0.9961, 0.9961, 0.9961, 0.9451, 0.7765, 0.7765, 0.7765, 0.7765,\n",
      "          0.7765, 0.7765, 0.7765, 0.7765, 0.6667, 0.2039, 0.0000, 0.0000,\n",
      "          0.0000, 0.0000, 0.0000, 0.0000],\n",
      "         [0.0000, 0.0000, 0.0000, 0.0000, 0.0000, 0.0000, 0.2627, 0.4471,\n",
      "          0.2824, 0.4471, 0.6392, 0.8902, 0.9961, 0.8824, 0.9961, 0.9961,\n",
      "          0.9961, 0.9804, 0.8980, 0.9961, 0.9961, 0.5490, 0.0000, 0.0000,\n",
      "          0.0000, 0.0000, 0.0000, 0.0000],\n",
      "         [0.0000, 0.0000, 0.0000, 0.0000, 0.0000, 0.0000, 0.0000, 0.0000,\n",
      "          0.0000, 0.0000, 0.0000, 0.0667, 0.2588, 0.0549, 0.2627, 0.2627,\n",
      "          0.2627, 0.2314, 0.0824, 0.9255, 0.9961, 0.4157, 0.0000, 0.0000,\n",
      "          0.0000, 0.0000, 0.0000, 0.0000],\n",
      "         [0.0000, 0.0000, 0.0000, 0.0000, 0.0000, 0.0000, 0.0000, 0.0000,\n",
      "          0.0000, 0.0000, 0.0000, 0.0000, 0.0000, 0.0000, 0.0000, 0.0000,\n",
      "          0.0000, 0.0000, 0.3255, 0.9922, 0.8196, 0.0706, 0.0000, 0.0000,\n",
      "          0.0000, 0.0000, 0.0000, 0.0000],\n",
      "         [0.0000, 0.0000, 0.0000, 0.0000, 0.0000, 0.0000, 0.0000, 0.0000,\n",
      "          0.0000, 0.0000, 0.0000, 0.0000, 0.0000, 0.0000, 0.0000, 0.0000,\n",
      "          0.0000, 0.0863, 0.9137, 1.0000, 0.3255, 0.0000, 0.0000, 0.0000,\n",
      "          0.0000, 0.0000, 0.0000, 0.0000],\n",
      "         [0.0000, 0.0000, 0.0000, 0.0000, 0.0000, 0.0000, 0.0000, 0.0000,\n",
      "          0.0000, 0.0000, 0.0000, 0.0000, 0.0000, 0.0000, 0.0000, 0.0000,\n",
      "          0.0000, 0.5059, 0.9961, 0.9333, 0.1725, 0.0000, 0.0000, 0.0000,\n",
      "          0.0000, 0.0000, 0.0000, 0.0000],\n",
      "         [0.0000, 0.0000, 0.0000, 0.0000, 0.0000, 0.0000, 0.0000, 0.0000,\n",
      "          0.0000, 0.0000, 0.0000, 0.0000, 0.0000, 0.0000, 0.0000, 0.0000,\n",
      "          0.2314, 0.9765, 0.9961, 0.2431, 0.0000, 0.0000, 0.0000, 0.0000,\n",
      "          0.0000, 0.0000, 0.0000, 0.0000],\n",
      "         [0.0000, 0.0000, 0.0000, 0.0000, 0.0000, 0.0000, 0.0000, 0.0000,\n",
      "          0.0000, 0.0000, 0.0000, 0.0000, 0.0000, 0.0000, 0.0000, 0.0000,\n",
      "          0.5216, 0.9961, 0.7333, 0.0196, 0.0000, 0.0000, 0.0000, 0.0000,\n",
      "          0.0000, 0.0000, 0.0000, 0.0000],\n",
      "         [0.0000, 0.0000, 0.0000, 0.0000, 0.0000, 0.0000, 0.0000, 0.0000,\n",
      "          0.0000, 0.0000, 0.0000, 0.0000, 0.0000, 0.0000, 0.0000, 0.0353,\n",
      "          0.8039, 0.9725, 0.2275, 0.0000, 0.0000, 0.0000, 0.0000, 0.0000,\n",
      "          0.0000, 0.0000, 0.0000, 0.0000],\n",
      "         [0.0000, 0.0000, 0.0000, 0.0000, 0.0000, 0.0000, 0.0000, 0.0000,\n",
      "          0.0000, 0.0000, 0.0000, 0.0000, 0.0000, 0.0000, 0.0000, 0.4941,\n",
      "          0.9961, 0.7137, 0.0000, 0.0000, 0.0000, 0.0000, 0.0000, 0.0000,\n",
      "          0.0000, 0.0000, 0.0000, 0.0000],\n",
      "         [0.0000, 0.0000, 0.0000, 0.0000, 0.0000, 0.0000, 0.0000, 0.0000,\n",
      "          0.0000, 0.0000, 0.0000, 0.0000, 0.0000, 0.0000, 0.2941, 0.9843,\n",
      "          0.9412, 0.2235, 0.0000, 0.0000, 0.0000, 0.0000, 0.0000, 0.0000,\n",
      "          0.0000, 0.0000, 0.0000, 0.0000],\n",
      "         [0.0000, 0.0000, 0.0000, 0.0000, 0.0000, 0.0000, 0.0000, 0.0000,\n",
      "          0.0000, 0.0000, 0.0000, 0.0000, 0.0000, 0.0745, 0.8667, 0.9961,\n",
      "          0.6510, 0.0000, 0.0000, 0.0000, 0.0000, 0.0000, 0.0000, 0.0000,\n",
      "          0.0000, 0.0000, 0.0000, 0.0000],\n",
      "         [0.0000, 0.0000, 0.0000, 0.0000, 0.0000, 0.0000, 0.0000, 0.0000,\n",
      "          0.0000, 0.0000, 0.0000, 0.0000, 0.0118, 0.7961, 0.9961, 0.8588,\n",
      "          0.1373, 0.0000, 0.0000, 0.0000, 0.0000, 0.0000, 0.0000, 0.0000,\n",
      "          0.0000, 0.0000, 0.0000, 0.0000],\n",
      "         [0.0000, 0.0000, 0.0000, 0.0000, 0.0000, 0.0000, 0.0000, 0.0000,\n",
      "          0.0000, 0.0000, 0.0000, 0.0000, 0.1490, 0.9961, 0.9961, 0.3020,\n",
      "          0.0000, 0.0000, 0.0000, 0.0000, 0.0000, 0.0000, 0.0000, 0.0000,\n",
      "          0.0000, 0.0000, 0.0000, 0.0000],\n",
      "         [0.0000, 0.0000, 0.0000, 0.0000, 0.0000, 0.0000, 0.0000, 0.0000,\n",
      "          0.0000, 0.0000, 0.0000, 0.1216, 0.8784, 0.9961, 0.4510, 0.0039,\n",
      "          0.0000, 0.0000, 0.0000, 0.0000, 0.0000, 0.0000, 0.0000, 0.0000,\n",
      "          0.0000, 0.0000, 0.0000, 0.0000],\n",
      "         [0.0000, 0.0000, 0.0000, 0.0000, 0.0000, 0.0000, 0.0000, 0.0000,\n",
      "          0.0000, 0.0000, 0.0000, 0.5216, 0.9961, 0.9961, 0.2039, 0.0000,\n",
      "          0.0000, 0.0000, 0.0000, 0.0000, 0.0000, 0.0000, 0.0000, 0.0000,\n",
      "          0.0000, 0.0000, 0.0000, 0.0000],\n",
      "         [0.0000, 0.0000, 0.0000, 0.0000, 0.0000, 0.0000, 0.0000, 0.0000,\n",
      "          0.0000, 0.0000, 0.2392, 0.9490, 0.9961, 0.9961, 0.2039, 0.0000,\n",
      "          0.0000, 0.0000, 0.0000, 0.0000, 0.0000, 0.0000, 0.0000, 0.0000,\n",
      "          0.0000, 0.0000, 0.0000, 0.0000],\n",
      "         [0.0000, 0.0000, 0.0000, 0.0000, 0.0000, 0.0000, 0.0000, 0.0000,\n",
      "          0.0000, 0.0000, 0.4745, 0.9961, 0.9961, 0.8588, 0.1569, 0.0000,\n",
      "          0.0000, 0.0000, 0.0000, 0.0000, 0.0000, 0.0000, 0.0000, 0.0000,\n",
      "          0.0000, 0.0000, 0.0000, 0.0000],\n",
      "         [0.0000, 0.0000, 0.0000, 0.0000, 0.0000, 0.0000, 0.0000, 0.0000,\n",
      "          0.0000, 0.0000, 0.4745, 0.9961, 0.8118, 0.0706, 0.0000, 0.0000,\n",
      "          0.0000, 0.0000, 0.0000, 0.0000, 0.0000, 0.0000, 0.0000, 0.0000,\n",
      "          0.0000, 0.0000, 0.0000, 0.0000],\n",
      "         [0.0000, 0.0000, 0.0000, 0.0000, 0.0000, 0.0000, 0.0000, 0.0000,\n",
      "          0.0000, 0.0000, 0.0000, 0.0000, 0.0000, 0.0000, 0.0000, 0.0000,\n",
      "          0.0000, 0.0000, 0.0000, 0.0000, 0.0000, 0.0000, 0.0000, 0.0000,\n",
      "          0.0000, 0.0000, 0.0000, 0.0000]]])\n",
      "tensor([[[-0.4242, -0.4242, -0.4242, -0.4242, -0.4242, -0.4242, -0.4242,\n",
      "          -0.4242, -0.4242, -0.4242, -0.4242, -0.4242, -0.4242, -0.4242,\n",
      "          -0.4242, -0.4242, -0.4242, -0.4242, -0.4242, -0.4242, -0.4242,\n",
      "          -0.4242, -0.4242, -0.4242, -0.4242, -0.4242, -0.4242, -0.4242],\n",
      "         [-0.4242, -0.4242, -0.4242, -0.4242, -0.4242, -0.4242, -0.4242,\n",
      "          -0.4242, -0.4242, -0.4242, -0.4242, -0.4242, -0.4242, -0.4242,\n",
      "          -0.4242, -0.4242, -0.4242, -0.4242, -0.4242, -0.4242, -0.4242,\n",
      "          -0.4242, -0.4242, -0.4242, -0.4242, -0.4242, -0.4242, -0.4242],\n",
      "         [-0.4242, -0.4242, -0.4242, -0.4242, -0.4242, -0.4242, -0.4242,\n",
      "          -0.4242, -0.4242, -0.4242, -0.4242, -0.4242, -0.4242, -0.4242,\n",
      "          -0.4242, -0.4242, -0.4242, -0.4242, -0.4242, -0.4242, -0.4242,\n",
      "          -0.4242, -0.4242, -0.4242, -0.4242, -0.4242, -0.4242, -0.4242],\n",
      "         [-0.4242, -0.4242, -0.4242, -0.4242, -0.4242, -0.4242, -0.4242,\n",
      "          -0.4242, -0.4242, -0.4242, -0.4242, -0.4242, -0.4242, -0.4242,\n",
      "          -0.4242, -0.4242, -0.4242, -0.4242, -0.4242, -0.4242, -0.4242,\n",
      "          -0.4242, -0.4242, -0.4242, -0.4242, -0.4242, -0.4242, -0.4242],\n",
      "         [-0.4242, -0.4242, -0.4242, -0.4242, -0.4242, -0.4242, -0.4242,\n",
      "          -0.4242, -0.4242, -0.4242, -0.4242, -0.4242, -0.4242, -0.4242,\n",
      "          -0.4242, -0.4242, -0.4242, -0.4242, -0.4242, -0.4242, -0.4242,\n",
      "          -0.4242, -0.4242, -0.4242, -0.4242, -0.4242, -0.4242, -0.4242],\n",
      "         [-0.4242, -0.4242, -0.4242, -0.4242, -0.4242, -0.4242, -0.4242,\n",
      "          -0.4242, -0.4242, -0.4242, -0.4242, -0.4242, -0.4242, -0.4242,\n",
      "          -0.4242, -0.4242, -0.4242, -0.4242, -0.4242, -0.4242, -0.4242,\n",
      "          -0.4242, -0.4242, -0.4242, -0.4242, -0.4242, -0.4242, -0.4242],\n",
      "         [-0.4242, -0.4242, -0.4242, -0.4242, -0.4242, -0.4242, -0.4242,\n",
      "          -0.4242, -0.4242, -0.4242, -0.4242, -0.4242, -0.4242, -0.4242,\n",
      "          -0.4242, -0.4242, -0.4242, -0.4242, -0.4242, -0.4242, -0.4242,\n",
      "          -0.4242, -0.4242, -0.4242, -0.4242, -0.4242, -0.4242, -0.4242],\n",
      "         [-0.4242, -0.4242, -0.4242, -0.4242, -0.4242, -0.4242,  0.6450,\n",
      "           1.9305,  1.5996,  1.4978,  0.3395,  0.0340, -0.4242, -0.4242,\n",
      "          -0.4242, -0.4242, -0.4242, -0.4242, -0.4242, -0.4242, -0.4242,\n",
      "          -0.4242, -0.4242, -0.4242, -0.4242, -0.4242, -0.4242, -0.4242],\n",
      "         [-0.4242, -0.4242, -0.4242, -0.4242, -0.4242, -0.4242,  2.4015,\n",
      "           2.8088,  2.8088,  2.8088,  2.8088,  2.6433,  2.0960,  2.0960,\n",
      "           2.0960,  2.0960,  2.0960,  2.0960,  2.0960,  2.0960,  1.7396,\n",
      "           0.2377, -0.4242, -0.4242, -0.4242, -0.4242, -0.4242, -0.4242],\n",
      "         [-0.4242, -0.4242, -0.4242, -0.4242, -0.4242, -0.4242,  0.4286,\n",
      "           1.0268,  0.4922,  1.0268,  1.6505,  2.4651,  2.8088,  2.4396,\n",
      "           2.8088,  2.8088,  2.8088,  2.7578,  2.4906,  2.8088,  2.8088,\n",
      "           1.3577, -0.4242, -0.4242, -0.4242, -0.4242, -0.4242, -0.4242],\n",
      "         [-0.4242, -0.4242, -0.4242, -0.4242, -0.4242, -0.4242, -0.4242,\n",
      "          -0.4242, -0.4242, -0.4242, -0.4242, -0.2078,  0.4159, -0.2460,\n",
      "           0.4286,  0.4286,  0.4286,  0.3268, -0.1569,  2.5797,  2.8088,\n",
      "           0.9250, -0.4242, -0.4242, -0.4242, -0.4242, -0.4242, -0.4242],\n",
      "         [-0.4242, -0.4242, -0.4242, -0.4242, -0.4242, -0.4242, -0.4242,\n",
      "          -0.4242, -0.4242, -0.4242, -0.4242, -0.4242, -0.4242, -0.4242,\n",
      "          -0.4242, -0.4242, -0.4242, -0.4242,  0.6322,  2.7960,  2.2360,\n",
      "          -0.1951, -0.4242, -0.4242, -0.4242, -0.4242, -0.4242, -0.4242],\n",
      "         [-0.4242, -0.4242, -0.4242, -0.4242, -0.4242, -0.4242, -0.4242,\n",
      "          -0.4242, -0.4242, -0.4242, -0.4242, -0.4242, -0.4242, -0.4242,\n",
      "          -0.4242, -0.4242, -0.4242, -0.1442,  2.5415,  2.8215,  0.6322,\n",
      "          -0.4242, -0.4242, -0.4242, -0.4242, -0.4242, -0.4242, -0.4242],\n",
      "         [-0.4242, -0.4242, -0.4242, -0.4242, -0.4242, -0.4242, -0.4242,\n",
      "          -0.4242, -0.4242, -0.4242, -0.4242, -0.4242, -0.4242, -0.4242,\n",
      "          -0.4242, -0.4242, -0.4242,  1.2177,  2.8088,  2.6051,  0.1358,\n",
      "          -0.4242, -0.4242, -0.4242, -0.4242, -0.4242, -0.4242, -0.4242],\n",
      "         [-0.4242, -0.4242, -0.4242, -0.4242, -0.4242, -0.4242, -0.4242,\n",
      "          -0.4242, -0.4242, -0.4242, -0.4242, -0.4242, -0.4242, -0.4242,\n",
      "          -0.4242, -0.4242,  0.3268,  2.7451,  2.8088,  0.3649, -0.4242,\n",
      "          -0.4242, -0.4242, -0.4242, -0.4242, -0.4242, -0.4242, -0.4242],\n",
      "         [-0.4242, -0.4242, -0.4242, -0.4242, -0.4242, -0.4242, -0.4242,\n",
      "          -0.4242, -0.4242, -0.4242, -0.4242, -0.4242, -0.4242, -0.4242,\n",
      "          -0.4242, -0.4242,  1.2686,  2.8088,  1.9560, -0.3606, -0.4242,\n",
      "          -0.4242, -0.4242, -0.4242, -0.4242, -0.4242, -0.4242, -0.4242],\n",
      "         [-0.4242, -0.4242, -0.4242, -0.4242, -0.4242, -0.4242, -0.4242,\n",
      "          -0.4242, -0.4242, -0.4242, -0.4242, -0.4242, -0.4242, -0.4242,\n",
      "          -0.4242, -0.3097,  2.1851,  2.7324,  0.3140, -0.4242, -0.4242,\n",
      "          -0.4242, -0.4242, -0.4242, -0.4242, -0.4242, -0.4242, -0.4242],\n",
      "         [-0.4242, -0.4242, -0.4242, -0.4242, -0.4242, -0.4242, -0.4242,\n",
      "          -0.4242, -0.4242, -0.4242, -0.4242, -0.4242, -0.4242, -0.4242,\n",
      "          -0.4242,  1.1795,  2.8088,  1.8923, -0.4242, -0.4242, -0.4242,\n",
      "          -0.4242, -0.4242, -0.4242, -0.4242, -0.4242, -0.4242, -0.4242],\n",
      "         [-0.4242, -0.4242, -0.4242, -0.4242, -0.4242, -0.4242, -0.4242,\n",
      "          -0.4242, -0.4242, -0.4242, -0.4242, -0.4242, -0.4242, -0.4242,\n",
      "           0.5304,  2.7706,  2.6306,  0.3013, -0.4242, -0.4242, -0.4242,\n",
      "          -0.4242, -0.4242, -0.4242, -0.4242, -0.4242, -0.4242, -0.4242],\n",
      "         [-0.4242, -0.4242, -0.4242, -0.4242, -0.4242, -0.4242, -0.4242,\n",
      "          -0.4242, -0.4242, -0.4242, -0.4242, -0.4242, -0.4242, -0.1824,\n",
      "           2.3887,  2.8088,  1.6887, -0.4242, -0.4242, -0.4242, -0.4242,\n",
      "          -0.4242, -0.4242, -0.4242, -0.4242, -0.4242, -0.4242, -0.4242],\n",
      "         [-0.4242, -0.4242, -0.4242, -0.4242, -0.4242, -0.4242, -0.4242,\n",
      "          -0.4242, -0.4242, -0.4242, -0.4242, -0.4242, -0.3860,  2.1596,\n",
      "           2.8088,  2.3633,  0.0213, -0.4242, -0.4242, -0.4242, -0.4242,\n",
      "          -0.4242, -0.4242, -0.4242, -0.4242, -0.4242, -0.4242, -0.4242],\n",
      "         [-0.4242, -0.4242, -0.4242, -0.4242, -0.4242, -0.4242, -0.4242,\n",
      "          -0.4242, -0.4242, -0.4242, -0.4242, -0.4242,  0.0595,  2.8088,\n",
      "           2.8088,  0.5559, -0.4242, -0.4242, -0.4242, -0.4242, -0.4242,\n",
      "          -0.4242, -0.4242, -0.4242, -0.4242, -0.4242, -0.4242, -0.4242],\n",
      "         [-0.4242, -0.4242, -0.4242, -0.4242, -0.4242, -0.4242, -0.4242,\n",
      "          -0.4242, -0.4242, -0.4242, -0.4242, -0.0296,  2.4269,  2.8088,\n",
      "           1.0395, -0.4115, -0.4242, -0.4242, -0.4242, -0.4242, -0.4242,\n",
      "          -0.4242, -0.4242, -0.4242, -0.4242, -0.4242, -0.4242, -0.4242],\n",
      "         [-0.4242, -0.4242, -0.4242, -0.4242, -0.4242, -0.4242, -0.4242,\n",
      "          -0.4242, -0.4242, -0.4242, -0.4242,  1.2686,  2.8088,  2.8088,\n",
      "           0.2377, -0.4242, -0.4242, -0.4242, -0.4242, -0.4242, -0.4242,\n",
      "          -0.4242, -0.4242, -0.4242, -0.4242, -0.4242, -0.4242, -0.4242],\n",
      "         [-0.4242, -0.4242, -0.4242, -0.4242, -0.4242, -0.4242, -0.4242,\n",
      "          -0.4242, -0.4242, -0.4242,  0.3522,  2.6560,  2.8088,  2.8088,\n",
      "           0.2377, -0.4242, -0.4242, -0.4242, -0.4242, -0.4242, -0.4242,\n",
      "          -0.4242, -0.4242, -0.4242, -0.4242, -0.4242, -0.4242, -0.4242],\n",
      "         [-0.4242, -0.4242, -0.4242, -0.4242, -0.4242, -0.4242, -0.4242,\n",
      "          -0.4242, -0.4242, -0.4242,  1.1159,  2.8088,  2.8088,  2.3633,\n",
      "           0.0849, -0.4242, -0.4242, -0.4242, -0.4242, -0.4242, -0.4242,\n",
      "          -0.4242, -0.4242, -0.4242, -0.4242, -0.4242, -0.4242, -0.4242],\n",
      "         [-0.4242, -0.4242, -0.4242, -0.4242, -0.4242, -0.4242, -0.4242,\n",
      "          -0.4242, -0.4242, -0.4242,  1.1159,  2.8088,  2.2105, -0.1951,\n",
      "          -0.4242, -0.4242, -0.4242, -0.4242, -0.4242, -0.4242, -0.4242,\n",
      "          -0.4242, -0.4242, -0.4242, -0.4242, -0.4242, -0.4242, -0.4242],\n",
      "         [-0.4242, -0.4242, -0.4242, -0.4242, -0.4242, -0.4242, -0.4242,\n",
      "          -0.4242, -0.4242, -0.4242, -0.4242, -0.4242, -0.4242, -0.4242,\n",
      "          -0.4242, -0.4242, -0.4242, -0.4242, -0.4242, -0.4242, -0.4242,\n",
      "          -0.4242, -0.4242, -0.4242, -0.4242, -0.4242, -0.4242, -0.4242]]])\n"
     ]
    }
   ],
   "source": [
    "# 手动进行张量化和归一化\n",
    "class DatasetMNIST(Dataset):\n",
    "    def __init__(self, raw):\n",
    "        super().__init__()\n",
    "        self.raw = raw\n",
    "        self.imgs = []\n",
    "        self.labels = []\n",
    "\n",
    "        self.ToTensor = transforms.ToTensor()\n",
    "        self.Normalize = transforms.Normalize((0.1307,), (0.3081,))\n",
    "\n",
    "        # 其实可以一把写完，但是这里为了展示中间过程所以拆开\n",
    "        for img, label in self.raw:\n",
    "            self.imgs.append(self.ToTensor(img))\n",
    "            self.labels.append(label)\n",
    "\n",
    "        print(self.imgs[0])\n",
    "\n",
    "        for i in range(len(self.imgs)):\n",
    "            self.imgs[i] = self.Normalize(self.imgs[i])\n",
    "\n",
    "        print(self.imgs[0])\n",
    "\n",
    "    def __getitem__(self, index):\n",
    "        return self.imgs[index], self.labels[index]\n",
    "\n",
    "    def __len__(self):\n",
    "        return len(self.imgs)\n",
    "\n",
    "\n",
    "train_Data = DatasetMNIST(train_Data_raw)\n",
    "test_Data = DatasetMNIST(test_Data_raw)"
   ]
  },
  {
   "cell_type": "code",
   "execution_count": 4,
   "id": "d1fc7f7600426bac",
   "metadata": {
    "ExecuteTime": {
     "end_time": "2025-07-26T08:36:54.969256Z",
     "start_time": "2025-07-26T08:36:54.965051Z"
    }
   },
   "outputs": [],
   "source": [
    "# 构建神经网络\n",
    "class net(nn.Module):\n",
    "    def __init__(self):\n",
    "        super(net, self).__init__()\n",
    "        self.net = nn.Sequential(\n",
    "            nn.Flatten(),  # 把输入摊平\n",
    "            nn.Linear(28 * 28, 512), nn.ReLU(),\n",
    "            nn.Linear(512, 256), nn.ReLU(),\n",
    "            nn.Linear(256, 128), nn.ReLU(),\n",
    "            nn.Linear(128, 64), nn.ReLU(),\n",
    "            nn.Linear(64, 10)\n",
    "        )\n",
    "\n",
    "    def forward(self, x):\n",
    "        return self.net(x)"
   ]
  },
  {
   "cell_type": "code",
   "execution_count": 5,
   "id": "f0c08a3a437de955",
   "metadata": {
    "ExecuteTime": {
     "end_time": "2025-07-26T08:36:54.986215Z",
     "start_time": "2025-07-26T08:36:54.982804Z"
    }
   },
   "outputs": [],
   "source": [
    "# 批处理数据集\n",
    "train_loader = DataLoader(train_Data, batch_size=64, shuffle=True)\n",
    "test_loader = DataLoader(test_Data, batch_size=64, shuffle=True)"
   ]
  },
  {
   "cell_type": "code",
   "execution_count": 6,
   "id": "c1ae693d852b1c04",
   "metadata": {
    "ExecuteTime": {
     "end_time": "2025-07-26T08:36:55.152702Z",
     "start_time": "2025-07-26T08:36:54.993676Z"
    }
   },
   "outputs": [],
   "source": [
    "# 初始化训练参数\n",
    "net = net().to('cuda')\n",
    "\n",
    "epoch = 10\n",
    "learning_rate = 0.001\n",
    "\n",
    "loss_fn = nn.CrossEntropyLoss()  # 损失器\n",
    "optimizer = torch.optim.Adam(net.parameters(), lr=learning_rate)  # 优化器"
   ]
  },
  {
   "cell_type": "code",
   "execution_count": 7,
   "id": "e5f57393e1ef6ad0",
   "metadata": {
    "ExecuteTime": {
     "end_time": "2025-07-26T08:37:03.902445Z",
     "start_time": "2025-07-26T08:36:55.159237Z"
    }
   },
   "outputs": [
    {
     "data": {
      "image/png": "[encoded data removed]",
      "text/plain": [
       "<Figure size 640x480 with 1 Axes>"
      ]
     },
     "metadata": {},
     "output_type": "display_data"
    }
   ],
   "source": [
    "# 开始训练\n",
    "total_losses = []\n",
    "\n",
    "for epoch_ in range(epoch):\n",
    "    batch_losses = []\n",
    "    for x, y in train_loader:\n",
    "        x = x.to('cuda')\n",
    "        y = y.to('cuda')\n",
    "        pred = net(x)\n",
    "        loss = loss_fn(pred, y)\n",
    "        batch_losses.append(loss.item())\n",
    "        optimizer.zero_grad()\n",
    "        loss.backward()\n",
    "        optimizer.step()\n",
    "    total_losses.append(sum(batch_losses) / len(batch_losses))\n",
    "\n",
    "Fig = plt.figure()\n",
    "plt.plot(range(epoch), total_losses)\n",
    "plt.ylabel('loss')\n",
    "plt.xlabel('epoch')\n",
    "plt.show()"
   ]
  },
  {
   "cell_type": "code",
   "execution_count": 8,
   "id": "dac2eaf4c976c5a1",
   "metadata": {
    "ExecuteTime": {
     "end_time": "2025-07-26T08:37:04.124749Z",
     "start_time": "2025-07-26T08:37:04.004838Z"
    }
   },
   "outputs": [
    {
     "name": "stdout",
     "output_type": "stream",
     "text": [
      "正确率：97.88%\n"
     ]
    }
   ],
   "source": [
    "# 测试模型\n",
    "total = 0\n",
    "correct = 0\n",
    "with torch.no_grad():\n",
    "    for x, y in test_loader:\n",
    "        x = x.to('cuda')\n",
    "        y = y.to('cuda')\n",
    "        pred = net(x)\n",
    "        correct += torch.sum(torch.argmax(pred, dim=1) == y)\n",
    "        total += y.size(0)\n",
    "\n",
    "print(f\"正确率：{correct / total * 100:.2f}%\")"
   ]
  },
  {
   "cell_type": "code",
   "execution_count": 9,
   "id": "537759c2648dd476",
   "metadata": {
    "ExecuteTime": {
     "end_time": "2025-07-26T08:37:04.219140Z",
     "start_time": "2025-07-26T08:37:04.159374Z"
    }
   },
   "outputs": [
    {
     "data": {
      "application/vnd.jupyter.widget-view+json": {
       "model_id": "8a9dd8e0863047cda62f3c8d72ad90c7",
       "version_major": 2,
       "version_minor": 0
      },
      "text/plain": [
       "VBox(children=(FileUpload(value=(), accept='.png,.jpg,.jpeg', description='Upload'), HBox(children=(IntSlider(…"
      ]
     },
     "metadata": {},
     "output_type": "display_data"
    }
   ],
   "source": [
    "from tools.ipynb_draw import DrawCanvas\n",
    "from IPython.display import display\n",
    "from ipywidgets import Button\n",
    "from PIL import Image\n",
    "\n",
    "dc = DrawCanvas(width=58, height=58)\n",
    "\n",
    "callback_button = Button(description=\"识别\")\n",
    "\n",
    "def callback(_):\n",
    "    with dc.out:\n",
    "        try:\n",
    "            np_img = dc.canvas.get_image_data(width=58, height=58)\n",
    "            img = Image.fromarray(np_img)\n",
    "            transform = transforms.Compose([\n",
    "                transforms.Grayscale(),  # 如果是彩色图像转为灰度\n",
    "                transforms.Resize((28, 28)),  # 调整大小为28x28\n",
    "                transforms.ToTensor(),  # 转为张量并归一化到[0,1]\n",
    "                transforms.Normalize((0.1307,), (0.3081,))  # 标准化到[-1,1]\n",
    "            ])\n",
    "\n",
    "            # 对图像进行预处理\n",
    "            input_tensor = transform(img).unsqueeze(0).to('cuda')  # 添加batch维度 (1, 1, 28, 28)\n",
    "\n",
    "            # 3. 前向传播\n",
    "            with torch.no_grad():  # 不需要计算梯度\n",
    "                output = net(input_tensor)\n",
    "                prediction = torch.argmax(output, dim=1).item()  # 获取预测类别\n",
    "                print(prediction)\n",
    "        except BaseException as e:\n",
    "            print(str(e))\n",
    "\n",
    "callback_button.on_click(callback)\n",
    "\n",
    "\n",
    "layout = dc.get_layout()\n",
    "layout.children[1].children = layout.children[1].children + (callback_button,)\n",
    "display(layout)"
   ]
  },
  {
   "cell_type": "markdown",
   "id": "1861f1d1-c468-4db2-bdf7-fd05f326e89e",
   "metadata": {},
   "source": [
    "实际上对于纯神经网络输入的识别效果并不好，必须是很接近训练集的数据才能准确的识别，对不同类型的图片的泛化能力其实不太行。"
   ]
  },
  {
   "cell_type": "markdown",
   "id": "825857ffea1cda6d",
   "metadata": {},
   "source": [
    "# 损失函数说明\n",
    "\n",
    "CrossEntropyLoss（交叉熵损失）、MSELoss（均方误差损失）和BCELoss（二元交叉熵损失）是深度学习中常用的损失函数，它们在应用场景、数学形式和适用任务上有显著差异。以下是它们的异同点分析：\n",
    "\n",
    "---\n",
    "\n",
    "### **1. 核心区别**\n",
    "| **损失函数**       | **主要应用场景**               | **输出类型**       | **数学形式**                          | **特点**                                                                 |\n",
    "|--------------------|-------------------------------|--------------------|---------------------------------------|--------------------------------------------------------------------------|\n",
    "| **CrossEntropyLoss** | 多分类任务（单标签）           | 概率分布（Softmax）| \\(-\\sum_{c=1}^C y_c \\log(p_c)\\)       | 结合Softmax，直接优化多类概率分布，对错误分类敏感。                       |\n",
    "| **BCELoss**         | 二分类任务或多标签分类         | 独立概率（Sigmoid）| \\(-\\frac{1}{N}\\sum_{i=1}^N [y_i \\log(p_i) + (1-y_i)\\log(1-p_i)]\\) | 每个输出节点独立计算二元概率，需显式Sigmoid激活。                         |\n",
    "| **MSELoss**         | 回归任务（连续值预测）         | 任意实数           | \\(\\frac{1}{N}\\sum_{i=1}^N (y_i - p_i)^2\\) | 对异常值敏感，假设误差服从高斯分布，分类任务中可能导致梯度消失。           |\n",
    "\n",
    "---\n",
    "\n",
    "### **2. 相同点**\n",
    "- **目标**：均用于衡量模型预测值与真实值的差异，指导模型参数优化。\n",
    "- **可微性**：均为可微函数，支持梯度下降法优化。\n",
    "\n",
    "---\n",
    "\n",
    "### **3. 关键差异**\n",
    "#### **(1) 任务类型**\n",
    "- **CrossEntropyLoss**：专为**单标签多分类**设计（如MNIST手写数字识别）。\n",
    "- **BCELoss**：适用于**二分类**或**多标签分类**（如同时预测多个疾病的概率）。\n",
    "- **MSELoss**：主要用于**回归问题**（如房价预测），分类任务中效果较差。\n",
    "\n",
    "#### **(2) 概率建模**\n",
    "- **CrossEntropyLoss**：隐含Softmax，强制输出为概率分布（\\(\\sum p_c = 1\\)）。\n",
    "- **BCELoss**：对每个输出节点单独应用Sigmoid，概率独立（适合非互斥类别）。\n",
    "- **MSELoss**：无概率约束，直接拟合数值。\n",
    "\n",
    "#### **(3) 梯度特性**\n",
    "- **CrossEntropyLoss**：梯度与误差成比例（\\(p_c - y_c\\)），错误分类时梯度大，收敛快。\n",
    "- **BCELoss**：类似但对每个节点独立计算。\n",
    "- **MSELoss**：梯度与误差线性相关（\\(2(y_i - p_i)\\)），在分类任务中可能导致梯度饱和（如Sigmoid输出接近0/1时）。\n",
    "\n",
    "#### **(4) 异常值鲁棒性**\n",
    "- MSELoss对异常值敏感（平方放大误差），而交叉熵损失对概率偏差更敏感。\n",
    "\n",
    "---\n",
    "\n",
    "### **4. 选择建议**\n",
    "- **多分类任务**：优先使用`CrossEntropyLoss`（PyTorch中结合Softmax，无需手动激活）。\n",
    "- **二分类/多标签分类**：使用`BCELoss` + `Sigmoid`。\n",
    "- **回归任务**：使用`MSELoss`或`HuberLoss`（对异常值鲁棒）。\n",
    "- **避免**：用MSELoss处理分类问题（概率拟合不合理，梯度不稳定）。\n"
   ]
  },
  {
   "metadata": {},
   "cell_type": "markdown",
   "source": [
    "# 唐一旦老师的代码\n",
    "由于老师写的比较优美，我这边直接 copy 过来，然后加一点注释"
   ],
   "id": "dc1cc7993884eda1"
  },
  {
   "metadata": {
    "ExecuteTime": {
     "end_time": "2025-08-18T07:56:36.177509Z",
     "start_time": "2025-08-18T07:56:25.571802Z"
    }
   },
   "cell_type": "code",
   "source": [
    "import torch\n",
    "import torch.nn as nn\n",
    "import torch.nn.functional as F\n",
    "import torch.optim as optim\n",
    "from torch.utils.data import DataLoader, random_split\n",
    "from torchvision import datasets\n",
    "import torchvision.transforms as transforms\n",
    "import matplotlib.pyplot as plt\n",
    "\n",
    "\n",
    "torch.manual_seed(12046)\n",
    "\n",
    "dataset = datasets.MNIST(root='./datasets/mnist/', train=True, download=True, transform=transforms.ToTensor())"
   ],
   "id": "a861c20225199ad0",
   "outputs": [],
   "execution_count": 1
  },
  {
   "metadata": {
    "ExecuteTime": {
     "end_time": "2025-08-18T07:56:38.794819Z",
     "start_time": "2025-08-18T07:56:38.752549Z"
    }
   },
   "cell_type": "code",
   "source": [
    "train_set, val_set = random_split(dataset, [50000, 10000])\n",
    "test_set = datasets.MNIST(root='./datasets/mnist/', train=False, download=True, transform=transforms.ToTensor())\n",
    "\n",
    "train_loader = DataLoader(train_set, batch_size=500, shuffle=True)\n",
    "val_loader = DataLoader(val_set, batch_size=500, shuffle=True)\n",
    "test_loader = DataLoader(test_set, batch_size=500, shuffle=True)"
   ],
   "id": "37a4c13446400b3c",
   "outputs": [],
   "execution_count": 2
  },
  {
   "metadata": {
    "ExecuteTime": {
     "end_time": "2025-08-18T07:56:44.339655Z",
     "start_time": "2025-08-18T07:56:44.330538Z"
    }
   },
   "cell_type": "code",
   "source": [
    "model = nn.Sequential(\n",
    "    nn.Linear(784, 30), nn.Sigmoid(),\n",
    "    nn.Linear( 30, 20), nn.Sigmoid(),\n",
    "    nn.Linear( 20, 10)\n",
    ")"
   ],
   "id": "574727a7e4167e12",
   "outputs": [],
   "execution_count": 3
  },
  {
   "metadata": {
    "ExecuteTime": {
     "end_time": "2025-08-16T08:46:26.367322Z",
     "start_time": "2025-08-16T08:46:26.362928Z"
    }
   },
   "cell_type": "code",
   "source": [
    "eval_iters = 10\n",
    "\n",
    "def estimate_loss(model):\n",
    "    re = {}\n",
    "    # 将模型切换为评估模式\n",
    "    model.eval()\n",
    "    re['train'] = _loss(model, train_loader)\n",
    "    re['val'] = _loss(model, val_loader)\n",
    "    re['test'] = _loss(model, test_loader)\n",
    "    # 将模型切换为训练模式\n",
    "    model.train()\n",
    "    return re\n",
    "\n",
    "@torch.no_grad()\n",
    "def _loss(model, dataloader):\n",
    "    # 估算模型效果\n",
    "    loss = []\n",
    "    acc = []\n",
    "    data_iter = iter(dataloader)\n",
    "    for t in range(eval_iters):\n",
    "        inputs, labels = next(data_iter)\n",
    "        # inputs: (500, 1, 28, 28)\n",
    "        # labels: (500)\n",
    "        B, C, H, W = inputs.shape   # 第一个 B 是批次大小\n",
    "        logits = model(inputs.view(B, -1))\n",
    "        loss.append(F.cross_entropy(logits, labels))\n",
    "        # preds = torch.argmax(F.softmax(logits, dim=-1), dim=-1)\n",
    "        preds = torch.argmax(logits, dim=-1)\n",
    "        acc.append((preds == labels).sum() / B)\n",
    "    re = {\n",
    "        'loss': torch.tensor(loss).mean().item(),\n",
    "        'acc': torch.tensor(acc).mean().item()\n",
    "    }\n",
    "    return re"
   ],
   "id": "41f6d8f8947c1627",
   "outputs": [],
   "execution_count": 11
  },
  {
   "metadata": {
    "ExecuteTime": {
     "end_time": "2025-08-16T08:46:28.466051Z",
     "start_time": "2025-08-16T08:46:27.680421Z"
    }
   },
   "cell_type": "code",
   "source": "estimate_loss(model)",
   "id": "29814b78a60b09e1",
   "outputs": [
    {
     "data": {
      "text/plain": [
       "{'train': {'loss': 2.3743958473205566, 'acc': 0.10120000690221786},\n",
       " 'val': {'loss': 2.3680973052978516, 'acc': 0.10480000078678131},\n",
       " 'test': {'loss': 2.3629441261291504, 'acc': 0.10699999332427979}}"
      ]
     },
     "execution_count": 12,
     "metadata": {},
     "output_type": "execute_result"
    }
   ],
   "execution_count": 12
  },
  {
   "metadata": {
    "ExecuteTime": {
     "end_time": "2025-08-16T08:48:19.946487Z",
     "start_time": "2025-08-16T08:48:19.941953Z"
    }
   },
   "cell_type": "code",
   "source": [
    "def train_model(model, optimizer, epochs=10, penalty=False):\n",
    "    lossi = []\n",
    "    for e in range(epochs):\n",
    "        for data in train_loader:\n",
    "            inputs, labels = data\n",
    "            B, C, H, W = inputs.shape\n",
    "            logits = model(inputs.view(B, -1))\n",
    "            loss = F.cross_entropy(logits, labels)\n",
    "            lossi.append(loss.item())\n",
    "            if penalty:\n",
    "                w = torch.cat([p.view(-1) for p in model.parameters()])\n",
    "                loss += 0.001 * w.abs().sum() + 0.002 * w.square().sum()\n",
    "            optimizer.zero_grad()\n",
    "            loss.backward()\n",
    "            optimizer.step()\n",
    "        stats = estimate_loss(model)\n",
    "        train_loss = f'{stats[\"train\"][\"loss\"]:.3f}'\n",
    "        val_loss = f'{stats[\"val\"][\"loss\"]:.3f}'\n",
    "        test_loss = f'{stats[\"test\"][\"loss\"]:.3f}'\n",
    "        print(f'epoch {e} train {train_loss} val {val_loss} test {test_loss}')\n",
    "    return lossi"
   ],
   "id": "e97d4a96be78967",
   "outputs": [],
   "execution_count": 13
  },
  {
   "metadata": {
    "ExecuteTime": {
     "end_time": "2025-08-16T08:49:25.312164Z",
     "start_time": "2025-08-16T08:48:49.339284Z"
    }
   },
   "cell_type": "code",
   "source": [
    "loss = {}\n",
    "model = nn.Sequential(\n",
    "    nn.Linear(784, 30), nn.Sigmoid(),\n",
    "    nn.Linear( 30, 20), nn.Sigmoid(),\n",
    "    nn.Linear( 20, 10)\n",
    ")\n",
    "\n",
    "loss['mlp'] = train_model(model, optim.SGD(model.parameters(), lr=0.01))"
   ],
   "id": "b339654d6943da19",
   "outputs": [
    {
     "name": "stdout",
     "output_type": "stream",
     "text": [
      "epoch 0 train 2.319 val 2.316 test 2.312\n",
      "epoch 1 train 2.304 val 2.303 test 2.303\n",
      "epoch 2 train 2.301 val 2.300 test 2.300\n",
      "epoch 3 train 2.300 val 2.300 test 2.300\n",
      "epoch 4 train 2.300 val 2.299 test 2.298\n",
      "epoch 5 train 2.299 val 2.298 test 2.297\n",
      "epoch 6 train 2.299 val 2.298 test 2.298\n",
      "epoch 7 train 2.297 val 2.297 test 2.296\n",
      "epoch 8 train 2.297 val 2.296 test 2.296\n",
      "epoch 9 train 2.295 val 2.296 test 2.296\n"
     ]
    }
   ],
   "execution_count": 14
  },
  {
   "metadata": {
    "ExecuteTime": {
     "end_time": "2025-08-16T08:50:56.688053Z",
     "start_time": "2025-08-16T08:50:17.853803Z"
    }
   },
   "cell_type": "code",
   "source": [
    "model = nn.Sequential(\n",
    "    nn.Linear(784, 30), nn.ReLU(),\n",
    "    nn.Linear( 30, 20), nn.ReLU(),\n",
    "    nn.Linear( 20, 10)\n",
    ")\n",
    "\n",
    "loss['mlp_relu'] = train_model(model, optim.SGD(model.parameters(), lr=0.01))"
   ],
   "id": "48ae19d806365962",
   "outputs": [
    {
     "name": "stdout",
     "output_type": "stream",
     "text": [
      "epoch 0 train 2.290 val 2.290 test 2.290\n",
      "epoch 1 train 2.262 val 2.261 test 2.261\n",
      "epoch 2 train 2.212 val 2.210 test 2.211\n",
      "epoch 3 train 2.122 val 2.122 test 2.117\n",
      "epoch 4 train 1.953 val 1.950 test 1.945\n",
      "epoch 5 train 1.720 val 1.711 test 1.707\n",
      "epoch 6 train 1.454 val 1.453 test 1.447\n",
      "epoch 7 train 1.208 val 1.224 test 1.205\n",
      "epoch 8 train 1.022 val 1.018 test 1.001\n",
      "epoch 9 train 0.886 val 0.878 test 0.875\n"
     ]
    }
   ],
   "execution_count": 15
  },
  {
   "metadata": {
    "ExecuteTime": {
     "end_time": "2025-08-16T08:51:32.625997Z",
     "start_time": "2025-08-16T08:50:56.692303Z"
    }
   },
   "cell_type": "code",
   "source": [
    "model = nn.Sequential(\n",
    "    nn.Linear(784, 30, bias=False), nn.LayerNorm(30), nn.ReLU(),  # 归一化层截距项没有必要\n",
    "    nn.Linear( 30, 20, bias=False), nn.LayerNorm(20), nn.ReLU(),\n",
    "    nn.Linear( 20, 10)\n",
    ")\n",
    "\n",
    "loss['mlp_relu_layer'] = train_model(model, optim.SGD(model.parameters(), lr=0.01))"
   ],
   "id": "ccfe9d5dd3d7796a",
   "outputs": [
    {
     "name": "stdout",
     "output_type": "stream",
     "text": [
      "epoch 0 train 1.554 val 1.552 test 1.543\n",
      "epoch 1 train 1.143 val 1.145 test 1.135\n",
      "epoch 2 train 0.829 val 0.843 test 0.835\n",
      "epoch 3 train 0.613 val 0.624 test 0.629\n",
      "epoch 4 train 0.518 val 0.501 test 0.503\n",
      "epoch 5 train 0.403 val 0.423 test 0.422\n",
      "epoch 6 train 0.355 val 0.365 test 0.362\n",
      "epoch 7 train 0.320 val 0.320 test 0.338\n",
      "epoch 8 train 0.286 val 0.318 test 0.290\n",
      "epoch 9 train 0.279 val 0.285 test 0.294\n"
     ]
    }
   ],
   "execution_count": 16
  },
  {
   "metadata": {
    "ExecuteTime": {
     "end_time": "2025-08-16T08:51:54.330953Z",
     "start_time": "2025-08-16T08:51:54.192504Z"
    }
   },
   "cell_type": "code",
   "source": [
    "for i in ['mlp', 'mlp_relu', 'mlp_relu_layer']:\n",
    "    plt.plot(torch.tensor(loss[i]).view(-1, 10).mean(dim=-1), label=i)\n",
    "plt.legend()\n",
    "plt.show()"
   ],
   "id": "9e1d4d058b9df2e4",
   "outputs": [
    {
     "data": {
      "text/plain": [
       "<Figure size 640x480 with 1 Axes>"
      ],
      "image/png": "[encoded data removed]"
     },
     "metadata": {},
     "output_type": "display_data"
    }
   ],
   "execution_count": 17
  },
  {
   "metadata": {
    "ExecuteTime": {
     "end_time": "2025-08-16T08:54:30.655253Z",
     "start_time": "2025-08-16T08:53:15.606494Z"
    }
   },
   "cell_type": "code",
   "source": [
    "# 模型过拟合\n",
    "model = nn.Sequential(\n",
    "    nn.Linear(784, 30, bias=False), nn.LayerNorm(30), nn.ReLU(),\n",
    "    nn.Linear( 30, 20, bias=False), nn.LayerNorm(20), nn.ReLU(),\n",
    "    nn.Linear( 20, 10)\n",
    ")\n",
    "\n",
    "loss['mlp_relu_layer_overfitting'] = train_model(model, optim.Adam(model.parameters(), lr=0.01), epochs=20)"
   ],
   "id": "a9ce60897007cec0",
   "outputs": [
    {
     "name": "stdout",
     "output_type": "stream",
     "text": [
      "epoch 0 train 0.200 val 0.222 test 0.224\n",
      "epoch 1 train 0.125 val 0.158 test 0.158\n",
      "epoch 2 train 0.101 val 0.139 test 0.133\n",
      "epoch 3 train 0.108 val 0.140 test 0.139\n",
      "epoch 4 train 0.069 val 0.130 test 0.112\n",
      "epoch 5 train 0.072 val 0.127 test 0.126\n",
      "epoch 6 train 0.059 val 0.127 test 0.123\n",
      "epoch 7 train 0.066 val 0.118 test 0.118\n",
      "epoch 8 train 0.058 val 0.119 test 0.120\n",
      "epoch 9 train 0.056 val 0.129 test 0.116\n",
      "epoch 10 train 0.036 val 0.122 test 0.115\n",
      "epoch 11 train 0.064 val 0.150 test 0.130\n",
      "epoch 12 train 0.043 val 0.127 test 0.131\n",
      "epoch 13 train 0.034 val 0.146 test 0.116\n",
      "epoch 14 train 0.031 val 0.123 test 0.115\n",
      "epoch 15 train 0.037 val 0.158 test 0.125\n",
      "epoch 16 train 0.029 val 0.155 test 0.114\n",
      "epoch 17 train 0.039 val 0.156 test 0.145\n",
      "epoch 18 train 0.028 val 0.154 test 0.128\n",
      "epoch 19 train 0.022 val 0.151 test 0.127\n"
     ]
    }
   ],
   "execution_count": 18
  },
  {
   "metadata": {
    "ExecuteTime": {
     "end_time": "2025-08-16T08:55:50.898268Z",
     "start_time": "2025-08-16T08:55:50.893987Z"
    }
   },
   "cell_type": "code",
   "source": [
    "m = nn.Dropout(0.5)\n",
    "x = torch.randn(5, requires_grad=True)"
   ],
   "id": "6a824dfcbd49a252",
   "outputs": [],
   "execution_count": 19
  },
  {
   "metadata": {
    "ExecuteTime": {
     "end_time": "2025-08-16T08:55:54.924866Z",
     "start_time": "2025-08-16T08:55:54.919939Z"
    }
   },
   "cell_type": "code",
   "source": "x",
   "id": "a199a9574bf1410c",
   "outputs": [
    {
     "data": {
      "text/plain": [
       "tensor([-0.6472,  0.8302,  1.1706, -0.1630,  0.6412], requires_grad=True)"
      ]
     },
     "execution_count": 20,
     "metadata": {},
     "output_type": "execute_result"
    }
   ],
   "execution_count": 20
  },
  {
   "metadata": {
    "ExecuteTime": {
     "end_time": "2025-08-16T08:55:58.756010Z",
     "start_time": "2025-08-16T08:55:58.748786Z"
    }
   },
   "cell_type": "code",
   "source": [
    "m.train()  # 最好指明\n",
    "l = m(x)\n",
    "l.sum().backward()\n",
    "l, x.grad"
   ],
   "id": "d7a5d7214b39dff2",
   "outputs": [
    {
     "data": {
      "text/plain": [
       "(tensor([-1.2943,  0.0000,  0.0000, -0.3261,  1.2824], grad_fn=<MulBackward0>),\n",
       " tensor([2., 0., 0., 2., 2.]))"
      ]
     },
     "execution_count": 21,
     "metadata": {},
     "output_type": "execute_result"
    }
   ],
   "execution_count": 21
  },
  {
   "metadata": {
    "ExecuteTime": {
     "end_time": "2025-08-16T08:56:04.806183Z",
     "start_time": "2025-08-16T08:56:04.801181Z"
    }
   },
   "cell_type": "code",
   "source": [
    "m.eval()  # 在评估模式下 dropout 不应该起作用，所以需要这个进行切换\n",
    "m(x)"
   ],
   "id": "a0fa1fb0842b13a1",
   "outputs": [
    {
     "data": {
      "text/plain": [
       "tensor([-0.6472,  0.8302,  1.1706, -0.1630,  0.6412], requires_grad=True)"
      ]
     },
     "execution_count": 22,
     "metadata": {},
     "output_type": "execute_result"
    }
   ],
   "execution_count": 22
  },
  {
   "metadata": {
    "ExecuteTime": {
     "end_time": "2025-08-16T09:00:23.830453Z",
     "start_time": "2025-08-16T08:58:37.613746Z"
    }
   },
   "cell_type": "code",
   "source": [
    "model = nn.Sequential(\n",
    "    nn.Linear(784, 30, bias=False), nn.LayerNorm(30), nn.ReLU(), nn.Dropout(0.2),\n",
    "    nn.Linear( 30, 20, bias=False), nn.LayerNorm(20), nn.ReLU(), nn.Dropout(0.2),\n",
    "    nn.Linear( 20, 10)\n",
    ")\n",
    "\n",
    "loss['mlp_relu_layer_dropout'] = train_model(model, optim.Adam(model.parameters(), lr=0.01), epochs=20)"
   ],
   "id": "dd05187016562c2d",
   "outputs": [
    {
     "name": "stdout",
     "output_type": "stream",
     "text": [
      "epoch 0 train 0.280 val 0.269 test 0.286\n",
      "epoch 1 train 0.190 val 0.208 test 0.221\n",
      "epoch 2 train 0.183 val 0.203 test 0.199\n",
      "epoch 3 train 0.154 val 0.193 test 0.169\n",
      "epoch 4 train 0.154 val 0.188 test 0.177\n",
      "epoch 5 train 0.130 val 0.183 test 0.162\n",
      "epoch 6 train 0.124 val 0.184 test 0.171\n",
      "epoch 7 train 0.119 val 0.163 test 0.163\n",
      "epoch 8 train 0.111 val 0.172 test 0.153\n",
      "epoch 9 train 0.126 val 0.173 test 0.184\n",
      "epoch 10 train 0.111 val 0.161 test 0.159\n",
      "epoch 11 train 0.108 val 0.161 test 0.149\n",
      "epoch 12 train 0.118 val 0.171 test 0.155\n",
      "epoch 13 train 0.101 val 0.151 test 0.139\n",
      "epoch 14 train 0.106 val 0.152 test 0.143\n",
      "epoch 15 train 0.109 val 0.164 test 0.146\n",
      "epoch 16 train 0.097 val 0.150 test 0.150\n",
      "epoch 17 train 0.103 val 0.160 test 0.162\n",
      "epoch 18 train 0.107 val 0.151 test 0.159\n",
      "epoch 19 train 0.091 val 0.146 test 0.160\n"
     ]
    }
   ],
   "execution_count": 24
  },
  {
   "metadata": {
    "ExecuteTime": {
     "end_time": "2025-08-16T09:02:23.200845Z",
     "start_time": "2025-08-16T09:00:43.053763Z"
    }
   },
   "cell_type": "code",
   "source": [
    "# 惩罚项\n",
    "model = nn.Sequential(\n",
    "    nn.Linear(784, 30, bias=False), nn.LayerNorm(30), nn.ReLU(),\n",
    "    nn.Linear( 30, 20, bias=False), nn.LayerNorm(20), nn.ReLU(),\n",
    "    nn.Linear( 20, 10)\n",
    ")\n",
    "\n",
    "_ = train_model(model, optim.Adam(model.parameters(), lr=0.01), epochs=20, penalty=True)"
   ],
   "id": "7ce5cf8751c47c49",
   "outputs": [
    {
     "name": "stdout",
     "output_type": "stream",
     "text": [
      "epoch 0 train 0.252 val 0.274 test 0.260\n",
      "epoch 1 train 0.236 val 0.247 test 0.250\n",
      "epoch 2 train 0.234 val 0.239 test 0.229\n",
      "epoch 3 train 0.227 val 0.230 test 0.217\n",
      "epoch 4 train 0.222 val 0.235 test 0.241\n",
      "epoch 5 train 0.203 val 0.240 test 0.213\n",
      "epoch 6 train 0.201 val 0.210 test 0.196\n",
      "epoch 7 train 0.206 val 0.201 test 0.200\n",
      "epoch 8 train 0.212 val 0.237 test 0.216\n",
      "epoch 9 train 0.250 val 0.243 test 0.251\n",
      "epoch 10 train 0.182 val 0.225 test 0.204\n",
      "epoch 11 train 0.212 val 0.234 test 0.216\n",
      "epoch 12 train 0.193 val 0.204 test 0.214\n",
      "epoch 13 train 0.216 val 0.206 test 0.205\n",
      "epoch 14 train 0.231 val 0.213 test 0.207\n",
      "epoch 15 train 0.253 val 0.252 test 0.237\n",
      "epoch 16 train 0.200 val 0.218 test 0.207\n",
      "epoch 17 train 0.217 val 0.236 test 0.217\n",
      "epoch 18 train 0.200 val 0.215 test 0.221\n",
      "epoch 19 train 0.221 val 0.229 test 0.222\n"
     ]
    }
   ],
   "execution_count": 25
  },
  {
   "metadata": {},
   "cell_type": "markdown",
   "source": [
    "# 理解卷积\n",
    "\n",
    "来自唐一旦老师的视频 [徒手实现卷积神经网络--结构详解与代码实现](https://www.bilibili.com/video/BV1yx4y1b7c9) 。\n",
    "\n",
    "同时推荐观看飞天侠客的视频 [神经网络中永远也搞不明白的矩阵和CNN【白话DeepSeek04】](https://www.bilibili.com/video/BV1wXQhY8EJ6) 。\n",
    "\n",
    "视频中给出的工具：\n",
    "\n",
    "+ 卷积操作图示：https://setosa.io/ev/image-kernels/\n",
    "+ GPU 对比页面用 AI 工具生成的代码：https://www.blackbox.ai/\n",
    "+ 手写数字识别过程演示：https://felixzhang00.github.io/DL/mnist/\n",
    "+ 3D CNN 网络可视化：https://adamharley.com/nn_vis/cnn/3d.html"
   ],
   "id": "f0cfafcf1f3db4ff"
  },
  {
   "metadata": {
    "ExecuteTime": {
     "end_time": "2025-08-16T09:19:10.840381Z",
     "start_time": "2025-08-16T09:19:10.832358Z"
    }
   },
   "cell_type": "code",
   "source": [
    "class CNN(nn.Module):\n",
    "\n",
    "    def __init__(self):\n",
    "        super().__init__()\n",
    "        self.conv1 = nn.Conv2d(1, 20, (5, 5))\n",
    "        self.pool1 = nn.MaxPool2d(2, 2)\n",
    "        self.conv2 = nn.Conv2d(20, 40, (5, 5))\n",
    "        self.pool2 = nn.MaxPool2d(2, 2)\n",
    "        self.fc1 = nn.Linear(40 * 4 * 4, 120)\n",
    "        self.fc2 = nn.Linear(120, 10)\n",
    "\n",
    "    def forward(self, x):\n",
    "        # x : (B, 1, 28, 28)\n",
    "        B = x.shape[0]                       # (B,  1, 28, 28)\n",
    "        x = F.relu(self.conv1(x))            # (B, 20, 24, 24)\n",
    "        x = self.pool1(x)                    # (B, 20, 12, 12)\n",
    "        x = F.relu(self.conv2(x))            # (B, 40,  8,  8)\n",
    "        x = self.pool2(x)                    # (B, 40,  4,  4)\n",
    "        x = F.relu(self.fc1(x.view(B, -1)))  # (B, 120)\n",
    "        x = self.fc2(x)                      # (B, 10)\n",
    "        return x\n",
    "\n",
    "model = CNN()"
   ],
   "id": "9889abda7271ca73",
   "outputs": [],
   "execution_count": 31
  },
  {
   "metadata": {
    "ExecuteTime": {
     "end_time": "2025-08-16T09:25:12.973248Z",
     "start_time": "2025-08-16T09:25:12.968673Z"
    }
   },
   "cell_type": "code",
   "source": [
    "eval_iters = 10\n",
    "\n",
    "\n",
    "def estimate_loss(model):\n",
    "    re = {}\n",
    "    # 将模型切换为评估模式\n",
    "    model.eval()\n",
    "    re['train'] = _loss(model, train_loader)\n",
    "    re['val'] = _loss(model, val_loader)\n",
    "    re['test'] = _loss(model, test_loader)\n",
    "    # 将模型切换为训练模式\n",
    "    model.train()\n",
    "    return re\n",
    "\n",
    "\n",
    "@torch.no_grad()\n",
    "def _loss(model, dataloader):\n",
    "    # 估算模型效果\n",
    "    loss = []\n",
    "    acc = []\n",
    "    data_iter = iter(dataloader)\n",
    "    for t in range(eval_iters):\n",
    "        inputs, labels = next(data_iter)\n",
    "        # inputs: (500, 1, 28, 28)\n",
    "        # labels: (500)\n",
    "        B, C, H, W = inputs.shape\n",
    "        #logits = model(inputs.view(B, -1))\n",
    "        logits = model(inputs)\n",
    "        loss.append(F.cross_entropy(logits, labels))\n",
    "        # preds = torch.argmax(F.softmax(logits, dim=-1), dim=-1)\n",
    "        preds = torch.argmax(logits, dim=-1)\n",
    "        acc.append((preds == labels).sum() / B)\n",
    "    re = {\n",
    "        'loss': torch.tensor(loss).mean().item(),\n",
    "        'acc': torch.tensor(acc).mean().item()\n",
    "    }\n",
    "    return re"
   ],
   "id": "8a30c4880e8254dd",
   "outputs": [],
   "execution_count": 35
  },
  {
   "metadata": {
    "ExecuteTime": {
     "end_time": "2025-08-16T09:25:16.375059Z",
     "start_time": "2025-08-16T09:25:16.371054Z"
    }
   },
   "cell_type": "code",
   "source": [
    "def train_model(model, optimizer, epochs=10, penalty=False):\n",
    "    lossi = []\n",
    "    for e in range(epochs):\n",
    "        for data in train_loader:\n",
    "            inputs, labels = data\n",
    "            #B, C, H, W = inputs.shape\n",
    "            #logits = model(inputs.view(B, -1))\n",
    "            logits = model(inputs)\n",
    "            loss = F.cross_entropy(logits, labels)\n",
    "            lossi.append(loss.item())\n",
    "            if penalty:\n",
    "                w = torch.cat([p.view(-1) for p in model.parameters()])\n",
    "                loss += 0.001 * w.abs().sum() + 0.002 * w.square().sum()\n",
    "            optimizer.zero_grad()\n",
    "            loss.backward()\n",
    "            optimizer.step()\n",
    "        stats = estimate_loss(model)\n",
    "        train_loss = f'{stats[\"train\"][\"loss\"]:.3f}'\n",
    "        val_loss = f'{stats[\"val\"][\"loss\"]:.3f}'\n",
    "        test_loss = f'{stats[\"test\"][\"loss\"]:.3f}'\n",
    "        print(f'epoch {e} train {train_loss} val {val_loss} test {test_loss}')\n",
    "    return lossi"
   ],
   "id": "1764126f85a4368b",
   "outputs": [],
   "execution_count": 36
  },
  {
   "metadata": {
    "ExecuteTime": {
     "end_time": "2025-08-16T09:26:25.308249Z",
     "start_time": "2025-08-16T09:25:16.874778Z"
    }
   },
   "cell_type": "code",
   "source": "_ = train_model(model, optim.Adam(model.parameters(), lr=0.01))",
   "id": "3a5cc1c533cfc70f",
   "outputs": [
    {
     "name": "stdout",
     "output_type": "stream",
     "text": [
      "epoch 0 train 0.040 val 0.062 test 0.042\n",
      "epoch 1 train 0.026 val 0.047 test 0.038\n",
      "epoch 2 train 0.028 val 0.048 test 0.035\n",
      "epoch 3 train 0.015 val 0.041 test 0.037\n",
      "epoch 4 train 0.016 val 0.047 test 0.039\n",
      "epoch 5 train 0.013 val 0.049 test 0.034\n",
      "epoch 6 train 0.037 val 0.075 test 0.050\n",
      "epoch 7 train 0.015 val 0.051 test 0.046\n",
      "epoch 8 train 0.013 val 0.068 test 0.055\n",
      "epoch 9 train 0.012 val 0.050 test 0.039\n"
     ]
    }
   ],
   "execution_count": 37
  },
  {
   "metadata": {
    "ExecuteTime": {
     "end_time": "2025-08-16T09:27:05.410738Z",
     "start_time": "2025-08-16T09:27:03.675745Z"
    }
   },
   "cell_type": "code",
   "source": "estimate_loss(model)",
   "id": "d6ccbd9c4066f059",
   "outputs": [
    {
     "data": {
      "text/plain": [
       "{'train': {'loss': 0.010436898097395897, 'acc': 0.9973999857902527},\n",
       " 'val': {'loss': 0.042675744742155075, 'acc': 0.9891999959945679},\n",
       " 'test': {'loss': 0.04551061987876892, 'acc': 0.9873999357223511}}"
      ]
     },
     "execution_count": 38,
     "metadata": {},
     "output_type": "execute_result"
    }
   ],
   "execution_count": 38
  },
  {
   "metadata": {
    "ExecuteTime": {
     "end_time": "2025-08-16T09:30:20.301263Z",
     "start_time": "2025-08-16T09:30:20.295239Z"
    }
   },
   "cell_type": "code",
   "source": [
    "class CNN2(nn.Module):\n",
    "\n",
    "    def __init__(self):\n",
    "        super().__init__()\n",
    "        self.conv1 = nn.Conv2d(1, 20, (5, 5))\n",
    "        self.ln1 = nn.LayerNorm([20, 24, 24])   # 层级归一化，与 AlexNet 中的做法类似\n",
    "        self.pool1 = nn.MaxPool2d(2, 2)\n",
    "        self.conv2 = nn.Conv2d(20, 40, (5, 5))\n",
    "        self.ln2 = nn.LayerNorm([40, 8, 8])\n",
    "        self.pool2 = nn.MaxPool2d(2, 2)\n",
    "        self.fc1 = nn.Linear(40 * 4 * 4, 120)\n",
    "        self.dp = nn.Dropout(0.2)\n",
    "        self.fc2 = nn.Linear(120, 10)\n",
    "\n",
    "    def forward(self, x):\n",
    "        # x : (B, 1, 28, 28)\n",
    "        B = x.shape[0]                       # (B,  1, 28, 28)\n",
    "        x = F.relu(self.ln1(self.conv1(x)))  # (B, 20, 24, 24)\n",
    "        x = self.pool1(x)                    # (B, 20, 12, 12)\n",
    "        x = F.relu(self.ln2(self.conv2(x)))  # (B, 40,  8,  8)\n",
    "        x = self.pool2(x)                    # (B, 40,  4,  4)\n",
    "        x = F.relu(self.fc1(x.view(B, -1)))  # (B, 120)\n",
    "        x = self.dp(x)\n",
    "        x = self.fc2(x)                      # (B, 10)\n",
    "        return x\n",
    "\n",
    "model2 = CNN2()"
   ],
   "id": "68f71de545000ef7",
   "outputs": [],
   "execution_count": 40
  },
  {
   "metadata": {
    "ExecuteTime": {
     "end_time": "2025-08-16T09:32:04.514629Z",
     "start_time": "2025-08-16T09:30:22.131375Z"
    }
   },
   "cell_type": "code",
   "source": "_ = train_model(model2, optim.Adam(model2.parameters(), lr=0.01))",
   "id": "51f88d5b595b4a9e",
   "outputs": [
    {
     "name": "stdout",
     "output_type": "stream",
     "text": [
      "epoch 0 train 0.082 val 0.078 test 0.073\n",
      "epoch 1 train 0.032 val 0.045 test 0.046\n",
      "epoch 2 train 0.036 val 0.050 test 0.041\n",
      "epoch 3 train 0.025 val 0.046 test 0.037\n",
      "epoch 4 train 0.039 val 0.063 test 0.052\n",
      "epoch 5 train 0.018 val 0.044 test 0.039\n",
      "epoch 6 train 0.017 val 0.052 test 0.030\n",
      "epoch 7 train 0.014 val 0.045 test 0.031\n",
      "epoch 8 train 0.008 val 0.043 test 0.035\n",
      "epoch 9 train 0.016 val 0.059 test 0.042\n"
     ]
    }
   ],
   "execution_count": 41
  },
  {
   "metadata": {
    "ExecuteTime": {
     "end_time": "2025-08-16T09:32:25.678743Z",
     "start_time": "2025-08-16T09:32:24.477345Z"
    }
   },
   "cell_type": "code",
   "source": [
    "model2.eval()\n",
    "estimate_loss(model2)"
   ],
   "id": "8826cd0dfdb84773",
   "outputs": [
    {
     "data": {
      "text/plain": [
       "{'train': {'loss': 0.011416323482990265, 'acc': 0.9964000582695007},\n",
       " 'val': {'loss': 0.04831470549106598, 'acc': 0.9893999099731445},\n",
       " 'test': {'loss': 0.03911430388689041, 'acc': 0.9908000230789185}}"
      ]
     },
     "execution_count": 42,
     "metadata": {},
     "output_type": "execute_result"
    }
   ],
   "execution_count": 42
  },
  {
   "metadata": {},
   "cell_type": "markdown",
   "source": [
    "# 残差链接\n",
    "\n",
    "来自唐一旦老师视频 [徒手实现卷积神经网络--残差网络（ResNet）](https://www.bilibili.com/video/BV1D1421r7sj)，同时你可以看笔记 7 ，这里代码的写法不一样。"
   ],
   "id": "d75bd1159d78df05"
  },
  {
   "metadata": {
    "ExecuteTime": {
     "end_time": "2025-08-18T08:01:55.112813Z",
     "start_time": "2025-08-18T08:01:55.107802Z"
    }
   },
   "cell_type": "code",
   "source": [
    "# 卷积层的几个小技巧\n",
    "channels = torch.randint(1, 10, (1, ))  # low, high, size\n",
    "conv1 = nn.Conv2d(channels, channels, (3, 3), stride=1, padding=1)\n",
    "x = torch.randn(1, channels, 28, 28)\n",
    "print(x.shape, conv1(x).shape)"
   ],
   "id": "aaf83ecf4ba96787",
   "outputs": [
    {
     "name": "stdout",
     "output_type": "stream",
     "text": [
      "torch.Size([1, 2, 28, 28]) torch.Size([1, 2, 28, 28])\n"
     ]
    }
   ],
   "execution_count": 67
  },
  {
   "metadata": {
    "ExecuteTime": {
     "end_time": "2025-08-18T08:06:36.824793Z",
     "start_time": "2025-08-18T08:06:36.820480Z"
    }
   },
   "cell_type": "code",
   "source": [
    "class ResidualBlockSimplified(nn.Module):\n",
    "\n",
    "    def __init__(self, channels):\n",
    "        super().__init__()\n",
    "        self.covn1 = nn.Conv2d(channels, channels, (3, 3), stride=1, padding=1)\n",
    "        self.covn2 = nn.Conv2d(channels, channels, (3, 3), stride=1, padding=1)\n",
    "\n",
    "    def forward(self, x):\n",
    "        inputs = x\n",
    "        x = F.relu(self.covn1(x))\n",
    "        x = self.covn2(x)\n",
    "        # 残差连接\n",
    "        out = x + inputs\n",
    "        return F.relu(out)"
   ],
   "id": "d8ef43160a7e2b4e",
   "outputs": [],
   "execution_count": 68
  },
  {
   "metadata": {
    "ExecuteTime": {
     "end_time": "2025-08-18T08:06:38.065870Z",
     "start_time": "2025-08-18T08:06:38.055356Z"
    }
   },
   "cell_type": "code",
   "source": [
    "model = ResidualBlockSimplified(3)\n",
    "x = torch.randn(1, 3, 28, 28)\n",
    "model(x).shape"
   ],
   "id": "2e8ef4f93789a58d",
   "outputs": [
    {
     "data": {
      "text/plain": [
       "torch.Size([1, 3, 28, 28])"
      ]
     },
     "execution_count": 69,
     "metadata": {},
     "output_type": "execute_result"
    }
   ],
   "execution_count": 69
  },
  {
   "metadata": {
    "ExecuteTime": {
     "end_time": "2025-08-18T08:07:33.857559Z",
     "start_time": "2025-08-18T08:07:33.851635Z"
    }
   },
   "cell_type": "code",
   "source": [
    "# 这两个卷积操作的输出是一样形状的\n",
    "stride = torch.randint(1, 10, (1,))\n",
    "in_channels = torch.randint(1, 10, (1,))\n",
    "out_channels = torch.randint(1, 10, (1,))\n",
    "conv1 = nn.Conv2d(in_channels, out_channels, (3, 3), stride=stride, padding=1)\n",
    "conv2 = nn.Conv2d(in_channels, out_channels, (1, 1), stride=stride, padding=0)\n",
    "x = torch.randn(1, in_channels, 28, 28)\n",
    "conv1(x).shape, conv2(x).shape"
   ],
   "id": "a3a16e553db290c2",
   "outputs": [
    {
     "data": {
      "text/plain": [
       "(torch.Size([1, 1, 4, 4]), torch.Size([1, 1, 4, 4]))"
      ]
     },
     "execution_count": 70,
     "metadata": {},
     "output_type": "execute_result"
    }
   ],
   "execution_count": 70
  },
  {
   "metadata": {
    "ExecuteTime": {
     "end_time": "2025-08-18T08:19:21.960320Z",
     "start_time": "2025-08-18T08:19:21.953191Z"
    }
   },
   "cell_type": "code",
   "source": [
    "class ResidualBlock(nn.Module):\n",
    "\n",
    "    def __init__(self, in_channels, out_channels, stride=1):\n",
    "        super().__init__()\n",
    "        self.conv1 = nn.Conv2d(in_channels, out_channels, (3, 3), stride=stride, padding=1)\n",
    "        self.bn1 = nn.BatchNorm2d(out_channels)\n",
    "        self.conv2 = nn.Conv2d(out_channels, out_channels, (3, 3), stride=1, padding=1)\n",
    "        self.bn2 = nn.BatchNorm2d(out_channels)\n",
    "        self.downsample = None\n",
    "        if stride != 1 or in_channels != out_channels:\n",
    "            self.downsample = nn.Conv2d(in_channels, out_channels, (1, 1), stride=stride, padding=0)\n",
    "            self.bn3 = nn.BatchNorm2d(out_channels)\n",
    "\n",
    "    def forward(self, x):\n",
    "        inputs = x\n",
    "        x = F.relu(self.bn1(self.conv1(x)))\n",
    "        x = self.bn2(self.conv2(x))\n",
    "        if self.downsample is not None:\n",
    "            inputs = self.bn3(self.downsample(inputs))\n",
    "        out = x + inputs\n",
    "        out = F.relu(out)\n",
    "        return out"
   ],
   "id": "a3e5f070e8f8551e",
   "outputs": [],
   "execution_count": 71
  },
  {
   "metadata": {
    "ExecuteTime": {
     "end_time": "2025-08-18T08:19:23.791640Z",
     "start_time": "2025-08-18T08:19:23.786438Z"
    }
   },
   "cell_type": "code",
   "source": [
    "class ResNet(nn.Module):\n",
    "\n",
    "    def __init__(self):\n",
    "        super().__init__()\n",
    "        self.block1 = ResidualBlock(1, 20)\n",
    "        self.block2 = ResidualBlock(20, 40, stride=2)\n",
    "        self.block3 = ResidualBlock(40, 60, stride=2)\n",
    "        self.block4 = ResidualBlock(60, 80, stride=2)\n",
    "        self.block5 = ResidualBlock(80, 100, stride=2)\n",
    "        self.block6 = ResidualBlock(100, 120, stride=2)\n",
    "        self.fc = nn.Linear(120, 10)\n",
    "\n",
    "    def forward(self, x):\n",
    "        # x : (B, 1, 28, 28)\n",
    "        B = x.shape[0]\n",
    "        x = self.block1(x)  # (B, 20, 28, 28)\n",
    "        x = self.block2(x)  # (B, 40, 14, 14)\n",
    "        x = self.block3(x)  # (B, 60,  7,  7)\n",
    "        x = self.block4(x)  # (B, 80,  4,  4)\n",
    "        x = self.block5(x)  # (B, 100, 2,  2)\n",
    "        x = self.block6(x)  # (B, 120, 1,  1)\n",
    "        x = self.fc(x.view(B, -1))\n",
    "        return x"
   ],
   "id": "147c1ccae12d0b25",
   "outputs": [],
   "execution_count": 72
  },
  {
   "metadata": {},
   "cell_type": "code",
   "outputs": [],
   "execution_count": null,
   "source": "",
   "id": "96bd25a37caded8e"
  }
 ],
 "metadata": {
  "kernelspec": {
   "display_name": "Python 3 (ipykernel)",
   "language": "python",
   "name": "python3"
  },
  "language_info": {
   "codemirror_mode": {
    "name": "ipython",
    "version": 3
   },
   "file_extension": ".py",
   "mimetype": "text/x-python",
   "name": "python",
   "nbconvert_exporter": "python",
   "pygments_lexer": "ipython3",
   "version": "3.11.9"
  }
 },
 "nbformat": 4,
 "nbformat_minor": 5
}
