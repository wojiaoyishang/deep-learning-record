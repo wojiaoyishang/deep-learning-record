{
 "cells": [
  {
   "metadata": {},
   "cell_type": "markdown",
   "source": [
    "# 神经网络解决分类问题的基本流程\n",
    "\n",
    "本节内容来自：[神经网络解决分类问题的基本流程](https://www.bilibili.com/video/BV1LT421v7Lw)\n",
    "\n",
    "节选了一些我认为可以解决我的疑惑的内容。\n",
    "\n",
    "## 为什么大家一开始采用 Sigmoid 作为激活函数？\n",
    "\n",
    "Sigmoid 函数的公式为：\n",
    "$\n",
    "\\sigma(x) = \\frac{1}{1 + e^{-x}}\n",
    "$\n",
    "\n",
    "一开始，人们尝试模仿大脑中的神经元使用\n",
    "$ f(x) =\n",
    "\\begin{cases}\n",
    "1, x > 0 \\\\\n",
    "0, x \\leq 0\n",
    "\\end{cases}\n",
    "$\n",
    "作为激活函数，即有输入激活，没输入不激活（或者是达到一个阈值进行输出），但是在后面的发展中，发现这种方式效果并不好。\n",
    "那为什么选用一个这么奇怪的函数作为激活函数呢？有什么数学原理或者细节呢？\n",
    "\n",
    "实际上，这是为了采用逻辑回归的建模成果。\n",
    "\n",
    "![](images/窗口效应和逻辑回归.png)\n",
    "\n",
    "逻辑回归是解决分类问题的经典模型，比如对于一件商品，我们是否购买就分为了两类，因此我们就可以使用逻辑回归模型来预测我们是否购买这件商品。\n",
    "\n",
    "在不可观察行为中，我们把是否购买的结果分解为正效应和负效应两个结果，实际上就是对应着不同两种决定因素，比如正效应就是我买了这个商品我可以获得良好的体验，负效应就是这件商品很贵。初次之外可能还有若干的正负效应叠加。\n",
    "\n",
    "当正 > 负的时候，我们就认为用户产生购买行为，反之则不会购买。上图中，我们把正负效应使用线性模型回归（因为这是我们已知的最简单的模型），他们互相竞争的一个过程可以用上图中最下面的公式进行表示。该公式中包含正态分布的累计函数，但是我们无法知道 $F_{\\epsilon}$ 确切的表示式子，于是我们只能去近似（为什么需要近似？当时的模型回归都是需要人来计算的，没有计算器所以尽可能需要用数学手段去近似它，在数值计算上可以减少计算量）。\n",
    "\n",
    "对于 $F_{\\epsilon}$ 的近似，我们发现，正态分布可以很好的用逻辑分布来近似，因此可以用逻辑分布来近似正态分布，这个逻辑分布就是 Sigmoid 。\n",
    "\n",
    "并且，这一实现让神经元的输出有了概率的意义，借鉴上述的逻辑回归的过程，我们可以知道这样一个概率的背后是条件竞争产生的结果。\n",
    "另外，Sigmoid 函数的值域范围在 (0, 1) ，一定程度上模拟了神经元的激活程度，比单纯的激活函数表示更丰富。"
   ],
   "id": "733607c7a758a611"
  },
  {
   "metadata": {
    "ExecuteTime": {
     "end_time": "2025-08-13T12:27:19.890730Z",
     "start_time": "2025-08-13T12:26:49.820610Z"
    }
   },
   "cell_type": "code",
   "source": [
    "import torch\n",
    "\n",
    "torch.manual_seed(1024)"
   ],
   "id": "8391722ebc37c76a",
   "outputs": [
    {
     "data": {
      "text/plain": [
       "<torch._C.Generator at 0x1b3eb924c10>"
      ]
     },
     "execution_count": 2,
     "metadata": {},
     "output_type": "execute_result"
    }
   ],
   "execution_count": 2
  },
  {
   "metadata": {
    "ExecuteTime": {
     "end_time": "2025-08-13T12:27:19.909807Z",
     "start_time": "2025-08-13T12:27:19.904249Z"
    }
   },
   "cell_type": "code",
   "source": [
    "### 手搓 Sigmoid\n",
    "\n",
    "# 唐一旦老师这边想要去模仿 Pytorch 去实现一个线性的链接层，其中 self.weight 中的 in_features, out_features 实际上就是每个神经元的全连接\n",
    "\n",
    "class Linear:\n",
    "    # input: (B, in_features)\n",
    "    # output: (B, out_features)\n",
    "\n",
    "    def __init__(self, in_features, out_features, bias=True):\n",
    "        \"\"\"\n",
    "        :param in_features: 输入神经元的个数\n",
    "        :param out_features: 输出神经元的个数\n",
    "        :param bias: 是否需要截距\n",
    "        \"\"\"\n",
    "        # 对于模型参数的初始化，故意没有做优化\n",
    "        self.weight = torch.randn(in_features, out_features, requires_grad=True)  # (in_features, out_features)\n",
    "        if bias:\n",
    "            self.bias = torch.randn(out_features, requires_grad=True)  # (             out_features)\n",
    "        else:\n",
    "            self.bias = None\n",
    "\n",
    "    def __call__(self, x):\n",
    "        # x:            (B, in_features)\n",
    "        # self.weight:  (in_features, out_features)\n",
    "        self.out = x @ self.weight  # (B, out_features)\n",
    "\n",
    "        if self.bias is not None:\n",
    "            self.out += self.bias\n",
    "\n",
    "        return self.out\n",
    "\n",
    "    def parameters(self):\n",
    "        # 返回模型参数\n",
    "        if self.bias is not None:\n",
    "            return self.weight, self.bias\n",
    "        return (self.weight,)\n"
   ],
   "id": "df148fd87b3548b7",
   "outputs": [],
   "execution_count": 3
  },
  {
   "metadata": {
    "ExecuteTime": {
     "end_time": "2025-08-13T12:27:20.010805Z",
     "start_time": "2025-08-13T12:27:19.916488Z"
    }
   },
   "cell_type": "code",
   "source": [
    "# 测试模型搭建是否符合预期\n",
    "l = Linear(3, 4)\n",
    "x = torch.randn(5, 3)\n",
    "print(l(x).shape)\n",
    "print(l.parameters())"
   ],
   "id": "c5a4954887c677e7",
   "outputs": [
    {
     "name": "stdout",
     "output_type": "stream",
     "text": [
      "torch.Size([5, 4])\n",
      "(tensor([[-1.4837,  0.2671, -1.8337, -0.1047],\n",
      "        [ 0.6002, -0.5496,  1.0391,  0.2261],\n",
      "        [ 0.3490,  0.9540,  0.0909,  0.2139]], requires_grad=True), tensor([ 0.0137,  1.7289, -0.4150,  0.0753], requires_grad=True))\n"
     ]
    }
   ],
   "execution_count": 4
  },
  {
   "metadata": {
    "ExecuteTime": {
     "end_time": "2025-08-13T12:27:20.040136Z",
     "start_time": "2025-08-13T12:27:20.036550Z"
    }
   },
   "cell_type": "code",
   "source": [
    "class Sigmoid:\n",
    "    def __call__(self, x):\n",
    "        self.out = torch.sigmoid(x)\n",
    "        return self.out\n",
    "\n",
    "    def parameters(self):\n",
    "        return tuple()"
   ],
   "id": "9c3f359268e75d3a",
   "outputs": [],
   "execution_count": 5
  },
  {
   "metadata": {
    "ExecuteTime": {
     "end_time": "2025-08-13T12:27:20.076911Z",
     "start_time": "2025-08-13T12:27:20.070506Z"
    }
   },
   "cell_type": "code",
   "source": [
    "s = Sigmoid()\n",
    "x = torch.randn(3, 2)\n",
    "s(x).shape"
   ],
   "id": "3230272d1c42f609",
   "outputs": [
    {
     "data": {
      "text/plain": [
       "torch.Size([3, 2])"
      ]
     },
     "execution_count": 6,
     "metadata": {},
     "output_type": "execute_result"
    }
   ],
   "execution_count": 6
  },
  {
   "metadata": {
    "ExecuteTime": {
     "end_time": "2025-08-13T12:27:20.095032Z",
     "start_time": "2025-08-13T12:27:20.091012Z"
    }
   },
   "cell_type": "code",
   "source": [
    "class Perception:\n",
    "\n",
    "    def __init__(self, in_features):\n",
    "        self.ln = Linear(in_features, 1)\n",
    "        self.f = Sigmoid()\n",
    "\n",
    "    def __call__(self, x):\n",
    "        # x: (B, in_features)\n",
    "        self.out = self.f(self.ln(x))  # (B, 1)\n",
    "        return self.out\n",
    "\n",
    "    def parameters(self):\n",
    "        return self.ln.parameters() + self.f.parameters()"
   ],
   "id": "6ec3c5e05702e7d1",
   "outputs": [],
   "execution_count": 7
  },
  {
   "metadata": {
    "ExecuteTime": {
     "end_time": "2025-08-13T12:27:20.115293Z",
     "start_time": "2025-08-13T12:27:20.109791Z"
    }
   },
   "cell_type": "code",
   "source": [
    "p = Perception(3)\n",
    "x = torch.randn(5, 3)\n",
    "print(p(x).shape)"
   ],
   "id": "cee244b58b484cb7",
   "outputs": [
    {
     "name": "stdout",
     "output_type": "stream",
     "text": [
      "torch.Size([5, 1])\n"
     ]
    }
   ],
   "execution_count": 8
  },
  {
   "metadata": {},
   "cell_type": "markdown",
   "source": [
    "## Softmax 函数\n",
    "\n",
    "$$\n",
    "\\mathbf{Z} = (z_0, z_1, \\dots, z_{k-1}) => Softmax => \\left( \\frac{e^{z_0}}{\\sum_{j=0}^{k-1} e^{z_j}}, \\frac{e^{z_1}}{\\sum_{j=0}^{k-1} e^{z_j}}, \\dots, \\frac{e^{z_{k-1}}}{\\sum_{j=0}^{k-1} e^{z_j}} \\right)\n",
    "$$"
   ],
   "id": "b1c197e79377a804"
  },
  {
   "metadata": {
    "ExecuteTime": {
     "end_time": "2025-08-13T12:27:20.176571Z",
     "start_time": "2025-08-13T12:27:20.172412Z"
    }
   },
   "cell_type": "code",
   "source": [
    "class LogitRegression:\n",
    "    # input: (B, in_features)\n",
    "    # output: (B, 2)\n",
    "\n",
    "    def __init__(self, in_features):\n",
    "        self.pos = Linear(in_features, 1)\n",
    "        self.neg = Linear(in_features, 1)\n",
    "\n",
    "    def __call__(self, x):\n",
    "        # x: (B, in_features)\n",
    "        self.out = torch.concat([self.pos(x), self.neg(x)], dim=-1)  # (B, 2)\n",
    "        return self.out\n",
    "\n",
    "    def parameters(self):\n",
    "        return self.pos.parameters() + self.neg.parameters()"
   ],
   "id": "b25f026b67fc7ef4",
   "outputs": [],
   "execution_count": 9
  },
  {
   "metadata": {
    "ExecuteTime": {
     "end_time": "2025-08-13T12:27:20.189555Z",
     "start_time": "2025-08-13T12:27:20.184004Z"
    }
   },
   "cell_type": "code",
   "source": [
    "lr = LogitRegression(3)\n",
    "x = torch.randn(5, 3)\n",
    "print(lr(x).shape)"
   ],
   "id": "2119a2ef75f15a9",
   "outputs": [
    {
     "name": "stdout",
     "output_type": "stream",
     "text": [
      "torch.Size([5, 2])\n"
     ]
    }
   ],
   "execution_count": 10
  },
  {
   "metadata": {
    "ExecuteTime": {
     "end_time": "2025-08-13T12:27:20.216809Z",
     "start_time": "2025-08-13T12:27:20.202401Z"
    }
   },
   "cell_type": "code",
   "source": [
    "import torch.nn.functional as F\n",
    "\n",
    "logits = lr(x)\n",
    "probs = F.softmax(logits, dim=-1)\n",
    "print(probs)\n",
    "\n",
    "# 每一行相加为 100%"
   ],
   "id": "d53f99b32f19f212",
   "outputs": [
    {
     "name": "stdout",
     "output_type": "stream",
     "text": [
      "tensor([[6.0937e-01, 3.9063e-01],\n",
      "        [8.8799e-01, 1.1201e-01],\n",
      "        [1.2545e-02, 9.8745e-01],\n",
      "        [5.4686e-01, 4.5314e-01],\n",
      "        [9.9931e-01, 6.9424e-04]], grad_fn=<SoftmaxBackward0>)\n"
     ]
    }
   ],
   "execution_count": 11
  },
  {
   "metadata": {
    "ExecuteTime": {
     "end_time": "2025-08-13T12:27:20.231594Z",
     "start_time": "2025-08-13T12:27:20.225103Z"
    }
   },
   "cell_type": "code",
   "source": [
    "pred = torch.argmax(logits, dim=-1)  # 计算某一维度最节接近的结果\n",
    "print(pred)"
   ],
   "id": "5639334e126509d5",
   "outputs": [
    {
     "name": "stdout",
     "output_type": "stream",
     "text": [
      "tensor([0, 0, 1, 0, 0])\n"
     ]
    }
   ],
   "execution_count": 12
  },
  {
   "metadata": {
    "ExecuteTime": {
     "end_time": "2025-08-13T12:27:20.256319Z",
     "start_time": "2025-08-13T12:27:20.243530Z"
    }
   },
   "cell_type": "code",
   "source": [
    "print(logits, pred)\n",
    "loss = F.cross_entropy(logits, pred)\n",
    "print(loss)"
   ],
   "id": "367f55790204add0",
   "outputs": [
    {
     "name": "stdout",
     "output_type": "stream",
     "text": [
      "tensor([[ 2.6585,  2.2138],\n",
      "        [ 1.1108, -0.9596],\n",
      "        [-3.1652,  1.2006],\n",
      "        [-1.3272, -1.5151],\n",
      "        [ 4.7086, -2.5634]], grad_fn=<CatBackward0>) tensor([0, 0, 1, 0, 0])\n",
      "tensor(0.2462, grad_fn=<NllLossBackward0>)\n"
     ]
    }
   ],
   "execution_count": 13
  },
  {
   "metadata": {
    "ExecuteTime": {
     "end_time": "2025-08-13T12:27:20.282756Z",
     "start_time": "2025-08-13T12:27:20.267445Z"
    }
   },
   "cell_type": "code",
   "source": [
    "# cross_entropy 等价于\n",
    "print(-probs.log()[range(5), pred].mean())\n",
    "# 把每一个预测的特征取对数，并把正确的预测结果相加求平均。\n",
    "# 这里我想要讨论一下\n",
    "# -probs.log()[range(5), pred] 与 -probs.log()[:, pred] 的区别\n",
    "# -probs.log()[range(5), pred] 是对 (0, 1, 2, 3, 4) 这四行，每一行取第 pred 个数据\n",
    "# -probs.log()[:, pred] 中代表的是 对于全部行的数据，取第 pred 个列组成一个新数据"
   ],
   "id": "b7c993b1c3848ce2",
   "outputs": [
    {
     "name": "stdout",
     "output_type": "stream",
     "text": [
      "tensor(0.2462, grad_fn=<NegBackward0>)\n"
     ]
    }
   ],
   "execution_count": 14
  },
  {
   "metadata": {
    "ExecuteTime": {
     "end_time": "2025-08-13T12:30:11.370938Z",
     "start_time": "2025-08-13T12:30:11.288011Z"
    }
   },
   "cell_type": "code",
   "source": [
    "### 生成测试数据\n",
    "from sklearn.datasets import make_blobs\n",
    "import matplotlib.pyplot as plt\n",
    "\n",
    "data = make_blobs(200, centers=[[-2, 2], [2, 2]])\n",
    "x, y = data\n",
    "\n",
    "print(x, y)\n",
    "plt.scatter(x[:, 0], x[:, 1])"
   ],
   "id": "1b92dbacff63daa7",
   "outputs": [
    {
     "name": "stdout",
     "output_type": "stream",
     "text": [
      "[[ 2.72662392  0.97448618]\n",
      " [-2.86541183  3.10777088]\n",
      " [-0.99719247  3.21520395]\n",
      " [-0.84641559  1.76552209]\n",
      " [ 1.45631298  4.08613823]\n",
      " [-2.28994486  4.74232574]\n",
      " [ 1.35751138  1.71506845]\n",
      " [ 1.70271437  1.71770465]\n",
      " [-1.73658497  3.24701379]\n",
      " [-2.10284821  1.27344947]\n",
      " [-1.95873861  2.50885771]\n",
      " [-1.16432603  2.62473339]\n",
      " [-1.08681167  0.75859495]\n",
      " [-1.60602147  0.98622737]\n",
      " [-2.16120058  1.5266393 ]\n",
      " [-0.81858045  1.23274886]\n",
      " [ 1.23688289  2.94784946]\n",
      " [ 2.11658054  1.67313667]\n",
      " [ 1.47309209  2.59013898]\n",
      " [-3.33255432  3.75079993]\n",
      " [ 2.10063843  3.11153915]\n",
      " [-2.73292419  2.29440933]\n",
      " [ 2.83503252  2.28912891]\n",
      " [ 2.06077841  0.64035506]\n",
      " [ 3.01433669  2.89233305]\n",
      " [-1.34199664  2.25506832]\n",
      " [-0.72741638  2.0260711 ]\n",
      " [ 1.74454272  2.90032646]\n",
      " [-2.45745011  2.03057777]\n",
      " [-2.96917294  3.69383725]\n",
      " [ 1.62810401  0.7509505 ]\n",
      " [-3.49172346  1.39242185]\n",
      " [ 1.41958216  1.28839776]\n",
      " [ 0.6823805   2.29244345]\n",
      " [ 3.54162986  0.12550742]\n",
      " [ 1.38834804  0.81803952]\n",
      " [ 2.81550256  3.94012539]\n",
      " [-2.00328173  1.65810268]\n",
      " [ 1.29838915  1.71951558]\n",
      " [-1.82564048  1.88136877]\n",
      " [ 1.82427511  2.86335209]\n",
      " [ 1.78161063  1.44488905]\n",
      " [-0.65444687  2.30013142]\n",
      " [-0.71369666  3.76066236]\n",
      " [ 1.12131465  2.10291782]\n",
      " [ 0.26242024  2.52887458]\n",
      " [-3.09280609  1.33829866]\n",
      " [ 2.26689927  1.92996093]\n",
      " [ 1.93085585  2.18390459]\n",
      " [-1.50597907  3.78456908]\n",
      " [ 1.3922781   0.7048707 ]\n",
      " [-0.81664452  2.79018481]\n",
      " [-2.02389101  2.75990868]\n",
      " [ 2.43808977  0.56306789]\n",
      " [-3.02205603  3.99786921]\n",
      " [ 1.33597911  2.06323248]\n",
      " [ 1.09375002  2.18870612]\n",
      " [ 2.001204    3.00384109]\n",
      " [-2.10843167  2.7232995 ]\n",
      " [ 2.05402423  3.97002561]\n",
      " [-3.30067616  1.87259225]\n",
      " [-1.99054504  1.08110297]\n",
      " [-3.76096546  3.72130201]\n",
      " [-1.51483928  0.85172487]\n",
      " [-2.57275678  0.35603965]\n",
      " [-3.08677513  1.7257926 ]\n",
      " [-0.99292846  1.26310308]\n",
      " [ 0.79881895  2.33766676]\n",
      " [-1.65604262  1.89291496]\n",
      " [-1.16549898  2.35685   ]\n",
      " [ 1.34640542  1.34898195]\n",
      " [-1.50757776  0.62206151]\n",
      " [-1.62352882  1.96135569]\n",
      " [ 3.20580325  1.4207395 ]\n",
      " [-2.37229912  2.89282643]\n",
      " [ 0.19296377  2.85573614]\n",
      " [-1.76018654  1.75412914]\n",
      " [-2.1964404   1.76027646]\n",
      " [ 2.89866812  1.49053197]\n",
      " [ 2.38746317  3.33036708]\n",
      " [-1.83098124  2.88416365]\n",
      " [ 0.6705321  -0.11263396]\n",
      " [-1.87774059  1.05222232]\n",
      " [-2.30106632  0.10387645]\n",
      " [-1.82459567  0.70770553]\n",
      " [ 1.54574452  2.14230015]\n",
      " [ 2.23798203  1.63143548]\n",
      " [ 2.519568    1.09456913]\n",
      " [-0.8390568   0.04216443]\n",
      " [ 1.873091    3.39275272]\n",
      " [ 1.79388101  3.26386259]\n",
      " [-2.38139598  1.69169629]\n",
      " [ 1.39345517  1.01664173]\n",
      " [ 2.03854314  0.83846171]\n",
      " [-2.87027785  1.56778294]\n",
      " [ 2.4587687   2.05675383]\n",
      " [-1.97609684  3.54045141]\n",
      " [ 0.41297372  1.71850792]\n",
      " [ 2.44969238  3.1226038 ]\n",
      " [-2.2307317   2.22580832]\n",
      " [ 1.93065582  2.50484722]\n",
      " [ 2.3875445   2.59853176]\n",
      " [ 2.82535782  3.32481392]\n",
      " [-1.64341733  2.60306446]\n",
      " [ 2.01715892  2.78693325]\n",
      " [ 3.6273099   1.48769567]\n",
      " [ 0.50164548  2.81878428]\n",
      " [-1.63305081  3.49495386]\n",
      " [ 1.74895625  2.17413922]\n",
      " [ 1.79015651  1.99835378]\n",
      " [ 3.16461463  1.9970873 ]\n",
      " [-1.84583808  1.32904421]\n",
      " [-0.63708377  2.2658849 ]\n",
      " [-0.44271353  1.17694744]\n",
      " [ 1.06055461  2.67901812]\n",
      " [ 1.41037569  1.14068252]\n",
      " [-1.21687633  2.86962811]\n",
      " [ 1.01344867  2.75042909]\n",
      " [-0.8303447   0.86797993]\n",
      " [ 0.96505974  1.40856319]\n",
      " [-0.81786547  0.81781601]\n",
      " [-1.24571744  2.88017656]\n",
      " [-1.74036293  2.46990449]\n",
      " [-2.21930917  0.35616199]\n",
      " [-1.06651015  3.2425913 ]\n",
      " [-1.74089336  2.65121142]\n",
      " [ 2.78183026  5.29550069]\n",
      " [ 0.71996413  2.28690077]\n",
      " [ 0.78855014  2.30681706]\n",
      " [ 1.9608684   1.23375191]\n",
      " [ 2.10941161  1.50013616]\n",
      " [-0.10909771  2.50626799]\n",
      " [ 1.82819731  1.68147962]\n",
      " [-0.4369131   1.04525472]\n",
      " [ 3.11899274  0.79513084]\n",
      " [ 2.90948466  1.23283111]\n",
      " [-2.73765266  0.26800416]\n",
      " [ 1.45989483  2.206736  ]\n",
      " [-1.63784245  1.89285638]\n",
      " [-2.66552226  0.47195505]\n",
      " [ 1.69244846  2.38504733]\n",
      " [-3.44490822  1.29730858]\n",
      " [-1.97845122  2.04788108]\n",
      " [-0.99688893  1.02264437]\n",
      " [ 1.99689595  2.78210457]\n",
      " [ 3.06419173  2.43549997]\n",
      " [ 1.95214921  4.02393548]\n",
      " [ 2.39288833  2.11501459]\n",
      " [-1.58884005  1.22106365]\n",
      " [ 2.87791518  1.51698871]\n",
      " [-1.99469721 -0.07336172]\n",
      " [-0.95168386  1.3718868 ]\n",
      " [ 1.32996365  1.84082216]\n",
      " [ 1.78886652  1.17496799]\n",
      " [-2.30117124  0.64426481]\n",
      " [ 3.34269978  2.53333455]\n",
      " [-2.23781056  2.12756091]\n",
      " [-2.20205533  1.74198176]\n",
      " [ 1.28721743  2.51897039]\n",
      " [-2.09037169  1.64379911]\n",
      " [-1.27926249  1.0969153 ]\n",
      " [-3.47722781  1.14474128]\n",
      " [ 2.48247889  1.95385478]\n",
      " [-2.57323182  2.65856996]\n",
      " [ 1.62046948  2.31917277]\n",
      " [ 2.97778073  1.75609572]\n",
      " [-0.63017592  2.84867808]\n",
      " [ 3.58799958  3.62858591]\n",
      " [ 3.450077    2.8965338 ]\n",
      " [-0.88286947  3.02185784]\n",
      " [ 2.09862398  2.08743203]\n",
      " [ 3.36542129  2.5456383 ]\n",
      " [-2.9412962   0.79225784]\n",
      " [-2.30621128  0.71003757]\n",
      " [-1.53757521  2.64551871]\n",
      " [ 1.91996068  0.08890404]\n",
      " [ 2.88512423  1.88300964]\n",
      " [ 2.73312197  1.62681271]\n",
      " [ 3.07879289  2.01955322]\n",
      " [ 1.6802212   1.72678383]\n",
      " [-3.74899563 -0.22199795]\n",
      " [ 1.3492063   1.62378026]\n",
      " [-0.95532822  0.24000295]\n",
      " [-2.65000159  1.2696491 ]\n",
      " [ 2.11394395  0.26116201]\n",
      " [-0.86418119  0.85677609]\n",
      " [ 2.21481701  2.23008389]\n",
      " [-2.2536291   2.25155387]\n",
      " [-3.39917623  4.01336505]\n",
      " [-3.41777594  0.62824019]\n",
      " [-1.87734093  1.69812119]\n",
      " [-2.14594929  2.62333284]\n",
      " [ 0.56698427  2.14358451]\n",
      " [ 2.27225002 -0.855072  ]\n",
      " [-1.1556638   2.41070811]\n",
      " [-1.74069789  2.45905901]\n",
      " [ 2.69034568  3.0407831 ]\n",
      " [ 3.62323346  1.96893608]\n",
      " [ 2.21600531  2.25785268]\n",
      " [ 0.8066008   1.64647416]] [1 0 0 0 1 0 1 1 0 0 0 0 0 0 0 0 1 1 1 0 1 0 1 1 1 0 0 1 0 0 1 0 1 0 1 1 1\n",
      " 0 1 0 1 1 0 0 1 1 0 1 1 0 1 0 0 1 0 1 1 1 0 1 0 0 0 0 0 0 0 1 0 0 1 0 0 1\n",
      " 0 1 0 0 1 1 0 1 0 0 0 1 1 1 0 1 1 0 1 1 0 1 0 1 1 0 1 1 1 0 1 1 1 0 1 1 1\n",
      " 0 0 0 1 1 1 1 0 1 0 0 0 0 0 0 1 1 1 1 1 0 1 0 1 1 0 1 0 0 1 0 0 0 1 1 1 1\n",
      " 0 1 0 0 1 1 0 1 0 0 1 0 0 0 1 0 1 1 0 1 1 0 1 1 0 0 0 1 1 1 1 1 0 1 0 0 1\n",
      " 0 1 0 0 0 0 0 0 1 0 0 1 1 1 1]\n"
     ]
    },
    {
     "data": {
      "text/plain": [
       "<matplotlib.collections.PathCollection at 0x1b39fc042d0>"
      ]
     },
     "execution_count": 17,
     "metadata": {},
     "output_type": "execute_result"
    },
    {
     "data": {
      "text/plain": [
       "<Figure size 640x480 with 1 Axes>"
      ],
      "image/png": "[encoded data removed]"
     },
     "metadata": {},
     "output_type": "display_data"
    }
   ],
   "execution_count": 17
  },
  {
   "metadata": {
    "ExecuteTime": {
     "end_time": "2025-08-13T12:44:19.192032Z",
     "start_time": "2025-08-13T12:42:49.223132Z"
    }
   },
   "cell_type": "code",
   "source": [
    "batch_size = 20\n",
    "max_steps = 2000\n",
    "learning_rate = 0.01\n",
    "\n",
    "\"\"\"\n",
    "x坐标 ↘\n",
    "        [2 * 1] → 正预测\n",
    "        [2 * 1] → 负预测\n",
    "y坐标 ↗\n",
    "\"\"\"\n",
    "\n",
    "lr = LogitRegression(2)\n",
    "lossi = []\n",
    "\n",
    "x, y = torch.tensor(x).float(), torch.tensor(y)\n",
    "\n",
    "for t in range(max_steps):\n",
    "    ix = (t * batch_size) % len(x)\n",
    "    xx = x[ix: ix + batch_size]\n",
    "    yy = y[ix: ix + batch_size]\n",
    "\n",
    "    logits = lr(xx)\n",
    "    loss = F.cross_entropy(logits, yy)\n",
    "    loss.backward()\n",
    "\n",
    "    with torch.no_grad():\n",
    "        for p in lr.parameters():\n",
    "            p -= learning_rate * p.grad\n",
    "            p.grad = None\n",
    "\n",
    "    if t % 200 == 0:\n",
    "        print(f'step: {t}, loss: {loss.item()}')\n",
    "\n",
    "    lossi.append(loss.item())\n",
    "\n"
   ],
   "id": "eec0d02e13bf75e8",
   "outputs": [
    {
     "name": "stderr",
     "output_type": "stream",
     "text": [
      "C:\\Users\\lovep\\AppData\\Local\\Temp\\ipykernel_41932\\1388652094.py:15: UserWarning: To copy construct from a tensor, it is recommended to use sourceTensor.detach().clone() or sourceTensor.detach().clone().requires_grad_(True), rather than torch.tensor(sourceTensor).\n",
      "  x, y = torch.tensor(x).float(), torch.tensor(y)\n"
     ]
    },
    {
     "name": "stdout",
     "output_type": "stream",
     "text": [
      "step: 0, loss: 3.614760637283325\n",
      "step: 200, loss: 0.170270174741745\n",
      "step: 400, loss: 0.09395795315504074\n",
      "step: 600, loss: 0.06800124049186707\n",
      "step: 800, loss: 0.0543740876019001\n",
      "step: 1000, loss: 0.04584439843893051\n",
      "step: 1200, loss: 0.039956361055374146\n",
      "step: 1400, loss: 0.03562803938984871\n",
      "step: 1600, loss: 0.03230324015021324\n",
      "step: 1800, loss: 0.02966490015387535\n"
     ]
    }
   ],
   "execution_count": 24
  },
  {
   "metadata": {
    "ExecuteTime": {
     "end_time": "2025-08-13T12:34:16.142698Z",
     "start_time": "2025-08-13T12:34:16.065299Z"
    }
   },
   "cell_type": "code",
   "source": "plt.plot(lossi)",
   "id": "64b653573c125444",
   "outputs": [
    {
     "data": {
      "text/plain": [
       "[<matplotlib.lines.Line2D at 0x1b3a2e090d0>]"
      ]
     },
     "execution_count": 19,
     "metadata": {},
     "output_type": "execute_result"
    },
    {
     "data": {
      "text/plain": [
       "<Figure size 640x480 with 1 Axes>"
      ],
      "image/png": "[encoded data removed]"
     },
     "metadata": {},
     "output_type": "display_data"
    }
   ],
   "execution_count": 19
  }
 ],
 "metadata": {
  "kernelspec": {
   "display_name": "Python 3",
   "language": "python",
   "name": "python3"
  },
  "language_info": {
   "codemirror_mode": {
    "name": "ipython",
    "version": 2
   },
   "file_extension": ".py",
   "mimetype": "text/x-python",
   "name": "python",
   "nbconvert_exporter": "python",
   "pygments_lexer": "ipython2",
   "version": "2.7.6"
  }
 },
 "nbformat": 4,
 "nbformat_minor": 5
}
